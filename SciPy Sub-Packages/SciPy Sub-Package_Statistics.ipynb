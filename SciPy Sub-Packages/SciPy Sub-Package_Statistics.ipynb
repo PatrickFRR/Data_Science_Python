{
 "cells": [
  {
   "cell_type": "markdown",
   "id": "a50a61d8",
   "metadata": {},
   "source": [
    "## Normal Distribution"
   ]
  },
  {
   "cell_type": "code",
   "execution_count": 1,
   "id": "370f1435",
   "metadata": {},
   "outputs": [],
   "source": [
    "from scipy.stats import norm"
   ]
  },
  {
   "cell_type": "code",
   "execution_count": 2,
   "id": "9c5b14a7",
   "metadata": {},
   "outputs": [
    {
     "data": {
      "text/plain": [
       "array([-0.1676288 , -0.40669808,  1.08072235, -0.92254432, -1.06841809,\n",
       "       -0.54847633, -0.6208778 ,  0.53022264,  0.78872616,  1.08823786])"
      ]
     },
     "execution_count": 2,
     "metadata": {},
     "output_type": "execute_result"
    }
   ],
   "source": [
    "# Random variables\n",
    "norm.rvs(loc = 0, scale = 1, size = 10)"
   ]
  },
  {
   "cell_type": "code",
   "execution_count": 3,
   "id": "42a276a2",
   "metadata": {},
   "outputs": [
    {
     "data": {
      "text/plain": [
       "0.9772498680518208"
      ]
     },
     "execution_count": 3,
     "metadata": {},
     "output_type": "execute_result"
    }
   ],
   "source": [
    "# Cumulative Distribution Function\n",
    "norm.cdf(5,loc=1,scale=2)"
   ]
  },
  {
   "cell_type": "code",
   "execution_count": 4,
   "id": "66088ff2",
   "metadata": {},
   "outputs": [
    {
     "data": {
      "text/plain": [
       "1.0279773571668917e-18"
      ]
     },
     "execution_count": 4,
     "metadata": {},
     "output_type": "execute_result"
    }
   ],
   "source": [
    "# Probability Density Function for random distribution\n",
    "norm.pdf(9,loc=0,scale=1)"
   ]
  },
  {
   "cell_type": "markdown",
   "id": "c423e81e",
   "metadata": {},
   "source": [
    "**loc** and **scale** are used to adjust the location and scale of the data distribution."
   ]
  },
  {
   "cell_type": "code",
   "execution_count": null,
   "id": "c2c9732e",
   "metadata": {},
   "outputs": [],
   "source": []
  }
 ],
 "metadata": {
  "kernelspec": {
   "display_name": "Python 3",
   "language": "python",
   "name": "python3"
  },
  "language_info": {
   "codemirror_mode": {
    "name": "ipython",
    "version": 3
   },
   "file_extension": ".py",
   "mimetype": "text/x-python",
   "name": "python",
   "nbconvert_exporter": "python",
   "pygments_lexer": "ipython3",
   "version": "3.8.8"
  }
 },
 "nbformat": 4,
 "nbformat_minor": 5
}
