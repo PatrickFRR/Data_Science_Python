{
 "cells": [
  {
   "cell_type": "markdown",
   "id": "8f0f2f68",
   "metadata": {},
   "source": [
    "## This example shows how to perform **quad** integration."
   ]
  },
  {
   "cell_type": "code",
   "execution_count": 2,
   "id": "1d185f95",
   "metadata": {},
   "outputs": [],
   "source": [
    "# Import quad from integrate sub-package\n",
    "from scipy.integrate import quad"
   ]
  },
  {
   "cell_type": "code",
   "execution_count": 3,
   "id": "b21240d3",
   "metadata": {},
   "outputs": [],
   "source": [
    "# Define function for integration of x\n",
    "def integrateFunction(x):\n",
    "    return x"
   ]
  },
  {
   "cell_type": "code",
   "execution_count": 6,
   "id": "977adb91",
   "metadata": {},
   "outputs": [
    {
     "data": {
      "text/plain": [
       "(0.5, 5.551115123125783e-15)"
      ]
     },
     "execution_count": 6,
     "metadata": {},
     "output_type": "execute_result"
    }
   ],
   "source": [
    "# Perform quad  integration for function  of x for limit 0 to 1\n",
    "quad(integrateFunction, 0, 1)"
   ]
  },
  {
   "cell_type": "code",
   "execution_count": 7,
   "id": "5b1f426f",
   "metadata": {},
   "outputs": [],
   "source": [
    "# Define function for ax + b\n",
    "def integrateFn(x, a, b):\n",
    "    return x*a+b"
   ]
  },
  {
   "cell_type": "code",
   "execution_count": 8,
   "id": "93c8f9a9",
   "metadata": {},
   "outputs": [],
   "source": [
    "# Declare value of a and b\n",
    "a = 3\n",
    "b = 2"
   ]
  },
  {
   "cell_type": "code",
   "execution_count": 9,
   "id": "50d1387e",
   "metadata": {},
   "outputs": [
    {
     "data": {
      "text/plain": [
       "(3.5, 3.885780586188048e-14)"
      ]
     },
     "execution_count": 9,
     "metadata": {},
     "output_type": "execute_result"
    }
   ],
   "source": [
    "# Perform quad integration and pass functions and arguments\n",
    "quad(integrateFn, 0, 1, args = (a,b))"
   ]
  },
  {
   "cell_type": "markdown",
   "id": "accb3675",
   "metadata": {},
   "source": [
    "## This example shows you how to perform multiple integration."
   ]
  },
  {
   "cell_type": "code",
   "execution_count": 11,
   "id": "01ead2a7",
   "metadata": {},
   "outputs": [],
   "source": [
    "import scipy.integrate as integrate"
   ]
  },
  {
   "cell_type": "code",
   "execution_count": 13,
   "id": "4a16609d",
   "metadata": {},
   "outputs": [
    {
     "data": {
      "text/plain": [
       "(3.0, 4.436070580899685e-14)"
      ]
     },
     "execution_count": 13,
     "metadata": {},
     "output_type": "execute_result"
    }
   ],
   "source": [
    "def f (x, y):\n",
    "    return x + y\n",
    "integrate.dblquad(f, 0, 1, lambda x: 0, lambda x: 2)"
   ]
  },
  {
   "cell_type": "markdown",
   "id": "44f9b538",
   "metadata": {},
   "source": [
    "## SciPy Sub-Package: Optimization"
   ]
  },
  {
   "cell_type": "code",
   "execution_count": 24,
   "id": "f9bc388a",
   "metadata": {},
   "outputs": [],
   "source": [
    "import numpy as np\n",
    "from scipy import optimize"
   ]
  },
  {
   "cell_type": "code",
   "execution_count": 25,
   "id": "9a464500",
   "metadata": {},
   "outputs": [],
   "source": [
    "def f (x):\n",
    "    return x**2 + 5*np.sin(x)"
   ]
  },
  {
   "cell_type": "code",
   "execution_count": 26,
   "id": "0fafdd78",
   "metadata": {},
   "outputs": [
    {
     "name": "stdout",
     "output_type": "stream",
     "text": [
      "Optimization terminated successfully.\n",
      "         Current function value: -3.246394\n",
      "         Iterations: 5\n",
      "         Function evaluations: 18\n",
      "         Gradient evaluations: 9\n"
     ]
    }
   ],
   "source": [
    "minimaValue = optimize.minimize(f, x0 =2, method = 'bfgs', options = {'disp':True})"
   ]
  },
  {
   "cell_type": "code",
   "execution_count": 27,
   "id": "95baa40c",
   "metadata": {},
   "outputs": [],
   "source": [
    "minimaValueWithoutOpt = optimize.minimize(f, x0 =2, method = 'bfgs')"
   ]
  },
  {
   "cell_type": "code",
   "execution_count": 28,
   "id": "ec361628",
   "metadata": {},
   "outputs": [
    {
     "data": {
      "text/plain": [
       "      fun: -3.2463942726915196\n",
       " hess_inv: array([[0.15445831]])\n",
       "      jac: array([-4.47034836e-07])\n",
       "  message: 'Optimization terminated successfully.'\n",
       "     nfev: 18\n",
       "      nit: 5\n",
       "     njev: 9\n",
       "   status: 0\n",
       "  success: True\n",
       "        x: array([-1.11051058])"
      ]
     },
     "execution_count": 28,
     "metadata": {},
     "output_type": "execute_result"
    }
   ],
   "source": [
    "minimaValueWithoutOpt"
   ]
  },
  {
   "cell_type": "code",
   "execution_count": 29,
   "id": "3929de40",
   "metadata": {},
   "outputs": [],
   "source": [
    "from scipy.optimize import root"
   ]
  },
  {
   "cell_type": "code",
   "execution_count": 30,
   "id": "017e55ae",
   "metadata": {},
   "outputs": [],
   "source": [
    "def rootfunc(x):\n",
    "    return x + 3.5 * np.cos(x)"
   ]
  },
  {
   "cell_type": "code",
   "execution_count": 31,
   "id": "c4d25737",
   "metadata": {},
   "outputs": [],
   "source": [
    "rootValue = root(rootfunc, 0.3)"
   ]
  },
  {
   "cell_type": "code",
   "execution_count": 32,
   "id": "7ade00ec",
   "metadata": {},
   "outputs": [
    {
     "data": {
      "text/plain": [
       "    fjac: array([[-1.]])\n",
       "     fun: array([0.])\n",
       " message: 'The solution converged.'\n",
       "    nfev: 14\n",
       "     qtf: array([-8.32889313e-13])\n",
       "       r: array([-4.28198145])\n",
       "  status: 1\n",
       " success: True\n",
       "       x: array([-1.21597614])"
      ]
     },
     "execution_count": 32,
     "metadata": {},
     "output_type": "execute_result"
    }
   ],
   "source": [
    "rootValue"
   ]
  }
 ],
 "metadata": {
  "kernelspec": {
   "display_name": "Python 3",
   "language": "python",
   "name": "python3"
  },
  "language_info": {
   "codemirror_mode": {
    "name": "ipython",
    "version": 3
   },
   "file_extension": ".py",
   "mimetype": "text/x-python",
   "name": "python",
   "nbconvert_exporter": "python",
   "pygments_lexer": "ipython3",
   "version": "3.8.8"
  }
 },
 "nbformat": 4,
 "nbformat_minor": 5
}
