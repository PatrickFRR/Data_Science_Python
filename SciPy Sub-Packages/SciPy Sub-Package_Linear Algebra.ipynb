{
 "cells": [
  {
   "cell_type": "code",
   "execution_count": 1,
   "id": "ec43a6da",
   "metadata": {},
   "outputs": [],
   "source": [
    "import numpy as np\n",
    "from scipy import linalg"
   ]
  },
  {
   "cell_type": "markdown",
   "id": "4e1a04c5",
   "metadata": {},
   "source": [
    "## Inverse of matrix"
   ]
  },
  {
   "cell_type": "code",
   "execution_count": 2,
   "id": "936f7bc4",
   "metadata": {},
   "outputs": [
    {
     "data": {
      "text/plain": [
       "array([[10,  6],\n",
       "       [ 2,  7]])"
      ]
     },
     "execution_count": 2,
     "metadata": {},
     "output_type": "execute_result"
    }
   ],
   "source": [
    "matrix = np.array([[10,6],[2,7]])\n",
    "matrix"
   ]
  },
  {
   "cell_type": "code",
   "execution_count": 3,
   "id": "6df8bed4",
   "metadata": {},
   "outputs": [
    {
     "data": {
      "text/plain": [
       "numpy.ndarray"
      ]
     },
     "execution_count": 3,
     "metadata": {},
     "output_type": "execute_result"
    }
   ],
   "source": [
    "type(matrix)"
   ]
  },
  {
   "cell_type": "code",
   "execution_count": 4,
   "id": "295a09a7",
   "metadata": {},
   "outputs": [
    {
     "data": {
      "text/plain": [
       "array([[ 0.12068966, -0.10344828],\n",
       "       [-0.03448276,  0.17241379]])"
      ]
     },
     "execution_count": 4,
     "metadata": {},
     "output_type": "execute_result"
    }
   ],
   "source": [
    "linalg.inv(matrix)"
   ]
  },
  {
   "cell_type": "markdown",
   "id": "32ec5b48",
   "metadata": {},
   "source": [
    "## Finfing Determinant"
   ]
  },
  {
   "cell_type": "code",
   "execution_count": 5,
   "id": "2924d744",
   "metadata": {},
   "outputs": [
    {
     "data": {
      "text/plain": [
       "array([[10,  6],\n",
       "       [ 2,  7]])"
      ]
     },
     "execution_count": 5,
     "metadata": {},
     "output_type": "execute_result"
    }
   ],
   "source": [
    "matrix = np.array([[10,6],[2,7]])\n",
    "matrix"
   ]
  },
  {
   "cell_type": "code",
   "execution_count": 6,
   "id": "55ab7313",
   "metadata": {},
   "outputs": [
    {
     "data": {
      "text/plain": [
       "58.0"
      ]
     },
     "execution_count": 6,
     "metadata": {},
     "output_type": "execute_result"
    }
   ],
   "source": [
    "linalg.det(matrix)"
   ]
  },
  {
   "cell_type": "markdown",
   "id": "6b7b4679",
   "metadata": {},
   "source": [
    "## Solve Linear systems"
   ]
  },
  {
   "cell_type": "code",
   "execution_count": 8,
   "id": "a89b11d1",
   "metadata": {},
   "outputs": [],
   "source": [
    "numArray = np.array([[2,3,1],[-1,5,4],[3,2,9]])"
   ]
  },
  {
   "cell_type": "code",
   "execution_count": 11,
   "id": "a02cb98a",
   "metadata": {},
   "outputs": [],
   "source": [
    "numArrValue = np.array([21,9,6])"
   ]
  },
  {
   "cell_type": "code",
   "execution_count": 12,
   "id": "f5fc39c5",
   "metadata": {},
   "outputs": [
    {
     "data": {
      "text/plain": [
       "array([ 4.95,  4.35, -1.95])"
      ]
     },
     "execution_count": 12,
     "metadata": {},
     "output_type": "execute_result"
    }
   ],
   "source": [
    "linalg.solve(numArray, numArrValue)"
   ]
  },
  {
   "cell_type": "markdown",
   "id": "bd95fa6d",
   "metadata": {},
   "source": [
    "## Single Value Decomposition(SVD)"
   ]
  },
  {
   "cell_type": "code",
   "execution_count": 13,
   "id": "97f08a60",
   "metadata": {},
   "outputs": [],
   "source": [
    "numSvdArr = np.array([[3,5,1],[9,5,7]])"
   ]
  },
  {
   "cell_type": "code",
   "execution_count": 14,
   "id": "309de56e",
   "metadata": {},
   "outputs": [
    {
     "data": {
      "text/plain": [
       "(2, 3)"
      ]
     },
     "execution_count": 14,
     "metadata": {},
     "output_type": "execute_result"
    }
   ],
   "source": [
    "numSvdArr.shape"
   ]
  },
  {
   "cell_type": "code",
   "execution_count": 15,
   "id": "a86b5bbf",
   "metadata": {},
   "outputs": [
    {
     "data": {
      "text/plain": [
       "(array([[-0.37879831,  0.92547925],\n",
       "        [-0.92547925, -0.37879831]]),\n",
       " array([13.38464336,  3.29413449]),\n",
       " array([[-0.7072066 , -0.4872291 , -0.51231496],\n",
       "        [-0.19208294,  0.82977932, -0.52399467],\n",
       "        [-0.68041382,  0.27216553,  0.68041382]]))"
      ]
     },
     "execution_count": 15,
     "metadata": {},
     "output_type": "execute_result"
    }
   ],
   "source": [
    "linalg.svd(numSvdArr)"
   ]
  },
  {
   "cell_type": "code",
   "execution_count": null,
   "id": "197ad958",
   "metadata": {},
   "outputs": [],
   "source": []
  }
 ],
 "metadata": {
  "kernelspec": {
   "display_name": "Python 3",
   "language": "python",
   "name": "python3"
  },
  "language_info": {
   "codemirror_mode": {
    "name": "ipython",
    "version": 3
   },
   "file_extension": ".py",
   "mimetype": "text/x-python",
   "name": "python",
   "nbconvert_exporter": "python",
   "pygments_lexer": "ipython3",
   "version": "3.8.8"
  }
 },
 "nbformat": 4,
 "nbformat_minor": 5
}
