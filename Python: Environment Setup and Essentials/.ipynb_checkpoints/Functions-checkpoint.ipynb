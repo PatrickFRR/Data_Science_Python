{
 "cells": [
  {
   "cell_type": "markdown",
   "id": "68c0e7b1",
   "metadata": {},
   "source": [
    "##  Functions are the primary and most important method of code organization and reuse in Python."
   ]
  },
  {
   "cell_type": "markdown",
   "id": "a5f88d72",
   "metadata": {},
   "source": [
    "Use **def** to create a function and assign it a name."
   ]
  },
  {
   "cell_type": "markdown",
   "id": "d2d0c9fa",
   "metadata": {},
   "source": [
    "# Functions: Considerations\n",
    "\n",
    "Some important points to consider while defining functions:\n",
    "    \n",
    "• A function should always have a **return** value.\n",
    "\n",
    "• If **return** is not defined, then it returns **None**.\n",
    "\n",
    "• Function overloading is not permitted."
   ]
  },
  {
   "cell_type": "code",
   "execution_count": 2,
   "id": "1a99785c",
   "metadata": {},
   "outputs": [
    {
     "name": "stdout",
     "output_type": "stream",
     "text": [
      "Patrick\n"
     ]
    }
   ],
   "source": [
    "# function name is my_name\n",
    "# argument is name\n",
    "# return value is name\n",
    "\n",
    "\n",
    "def my_name (name):\n",
    "    return name\n",
    "\n",
    "print(my_name('Patrick'))   "
   ]
  },
  {
   "cell_type": "markdown",
   "id": "e601178c",
   "metadata": {},
   "source": [
    "# Functions: Returning Values"
   ]
  },
  {
   "cell_type": "code",
   "execution_count": 3,
   "id": "2dfac23b",
   "metadata": {},
   "outputs": [
    {
     "data": {
      "text/plain": [
       "70.5"
      ]
     },
     "execution_count": 3,
     "metadata": {},
     "output_type": "execute_result"
    }
   ],
   "source": [
    "# You can use a function to return a single value or multiple values.\n",
    "\n",
    "# Create function\n",
    "def add_2_numbers(num1, num2):\n",
    "    return num1 + num2\n",
    "\n",
    "x = 23\n",
    "y = 47.5\n",
    "result = add_2_numbers(x, y) # Call function\n",
    "result"
   ]
  },
  {
   "cell_type": "code",
   "execution_count": 9,
   "id": "8788f850",
   "metadata": {},
   "outputs": [],
   "source": [
    "# Create function\n",
    "\n",
    "def profile():\n",
    "    age = 21\n",
    "    height = 5.5\n",
    "    weight = 130\n",
    "    return age, height, weight # Multiple return\n",
    "\n",
    "age, height, weight = profile() # Call function"
   ]
  },
  {
   "cell_type": "code",
   "execution_count": 10,
   "id": "8759b733",
   "metadata": {},
   "outputs": [
    {
     "name": "stdout",
     "output_type": "stream",
     "text": [
      "21 5.5 130\n"
     ]
    }
   ],
   "source": [
    "print(age, height, weight)"
   ]
  },
  {
   "cell_type": "markdown",
   "id": "885e1c4e",
   "metadata": {},
   "source": [
    "# Built-in Sequence Functions"
   ]
  },
  {
   "cell_type": "markdown",
   "id": "ca73d63b",
   "metadata": {},
   "source": [
    "## Built-in Sequence Functions: enumerate"
   ]
  },
  {
   "cell_type": "code",
   "execution_count": 12,
   "id": "f2637e5e",
   "metadata": {},
   "outputs": [],
   "source": [
    "# enumerate: Indexes data to keep track of indices and corresponding data mapping\n",
    "\n",
    "fruit_list = ['appel', 'pear', 'grape', 'orange', 'limon', 'coconut']"
   ]
  },
  {
   "cell_type": "code",
   "execution_count": 14,
   "id": "02261535",
   "metadata": {},
   "outputs": [
    {
     "name": "stdout",
     "output_type": "stream",
     "text": [
      "0 appel\n",
      "1 pear\n",
      "2 grape\n",
      "3 orange\n",
      "4 limon\n",
      "5 coconut\n"
     ]
    }
   ],
   "source": [
    "# Print data element and indez using enumerate method\n",
    "\n",
    "for position, name in enumerate(fruit_list):\n",
    "    print(position, name)"
   ]
  },
  {
   "cell_type": "code",
   "execution_count": 16,
   "id": "53d6e5ca",
   "metadata": {},
   "outputs": [],
   "source": [
    "# Create a data element and index map using dict\n",
    "fruit_map = dict((name, position) for position, name in enumerate(fruit_list))"
   ]
  },
  {
   "cell_type": "code",
   "execution_count": 17,
   "id": "e264fa1f",
   "metadata": {},
   "outputs": [
    {
     "data": {
      "text/plain": [
       "{'appel': 0, 'pear': 1, 'grape': 2, 'orange': 3, 'limon': 4, 'coconut': 5}"
      ]
     },
     "execution_count": 17,
     "metadata": {},
     "output_type": "execute_result"
    }
   ],
   "source": [
    "# View the fruit map in the form of key-value pair\n",
    "fruit_map"
   ]
  },
  {
   "cell_type": "markdown",
   "id": "cc169b71",
   "metadata": {},
   "source": [
    "## Built-in Sequence Functions: sorted"
   ]
  },
  {
   "cell_type": "code",
   "execution_count": 18,
   "id": "816771d2",
   "metadata": {},
   "outputs": [
    {
     "data": {
      "text/plain": [
       "[7, 21, 33, 43, 56, 65, 91]"
      ]
     },
     "execution_count": 18,
     "metadata": {},
     "output_type": "execute_result"
    }
   ],
   "source": [
    "# Sort numbers\n",
    "sorted([91, 43, 65, 56, 7, 33, 21]) "
   ]
  },
  {
   "cell_type": "code",
   "execution_count": 19,
   "id": "ecb52849",
   "metadata": {},
   "outputs": [
    {
     "data": {
      "text/plain": [
       "[' ',\n",
       " ' ',\n",
       " 'T',\n",
       " 'a',\n",
       " 'a',\n",
       " 'c',\n",
       " 'c',\n",
       " 'd',\n",
       " 'e',\n",
       " 'e',\n",
       " 'e',\n",
       " 'h',\n",
       " 'i',\n",
       " 'n',\n",
       " 's',\n",
       " 't']"
      ]
     },
     "execution_count": 19,
     "metadata": {},
     "output_type": "execute_result"
    }
   ],
   "source": [
    "# Sort a string value\n",
    "sorted('The data science')"
   ]
  },
  {
   "cell_type": "markdown",
   "id": "9758c04b",
   "metadata": {},
   "source": [
    "## Built-in Sequence Functions: reversed and zip"
   ]
  },
  {
   "cell_type": "code",
   "execution_count": 20,
   "id": "60ba7e43",
   "metadata": {},
   "outputs": [],
   "source": [
    "# Create a list of numbers for range 15\n",
    "num_list = range(15)"
   ]
  },
  {
   "cell_type": "code",
   "execution_count": 21,
   "id": "96b3e71d",
   "metadata": {},
   "outputs": [
    {
     "data": {
      "text/plain": [
       "[14, 13, 12, 11, 10, 9, 8, 7, 6, 5, 4, 3, 2, 1, 0]"
      ]
     },
     "execution_count": 21,
     "metadata": {},
     "output_type": "execute_result"
    }
   ],
   "source": [
    "# Use reversed function to reverse the order\n",
    "list(reversed(num_list))"
   ]
  },
  {
   "cell_type": "code",
   "execution_count": 22,
   "id": "dbc1dd21",
   "metadata": {},
   "outputs": [],
   "source": [
    "# Define list of subjects and count\n",
    "subjects = ['math', 'statistics', 'algebra']\n",
    "subject_count = ['one', 'two', 'three']"
   ]
  },
  {
   "cell_type": "code",
   "execution_count": 34,
   "id": "c53a5638",
   "metadata": {},
   "outputs": [
    {
     "name": "stdout",
     "output_type": "stream",
     "text": [
      "('math', 'one')\n",
      "('statistics', 'two')\n",
      "('algebra', 'three')\n"
     ]
    }
   ],
   "source": [
    "# Zip function to pair the data elements of tuples\n",
    "total_subject = zip(subjects, subject_count)\n",
    "for t in total_subject:\n",
    "    print(t)"
   ]
  },
  {
   "cell_type": "code",
   "execution_count": 35,
   "id": "e2994280",
   "metadata": {},
   "outputs": [
    {
     "data": {
      "text/plain": [
       "zip"
      ]
     },
     "execution_count": 35,
     "metadata": {},
     "output_type": "execute_result"
    }
   ],
   "source": [
    "type(total_subject)"
   ]
  },
  {
   "cell_type": "code",
   "execution_count": 38,
   "id": "af955713",
   "metadata": {},
   "outputs": [
    {
     "data": {
      "text/plain": [
       "tuple"
      ]
     },
     "execution_count": 38,
     "metadata": {},
     "output_type": "execute_result"
    }
   ],
   "source": [
    "type(t)"
   ]
  },
  {
   "cell_type": "code",
   "execution_count": 36,
   "id": "a38703b0",
   "metadata": {},
   "outputs": [
    {
     "data": {
      "text/plain": [
       "[('math', 'one'), ('statistics', 'two'), ('algebra', 'three')]"
      ]
     },
     "execution_count": 36,
     "metadata": {},
     "output_type": "execute_result"
    }
   ],
   "source": [
    "total_subject = list(zip(subjects, subject_count))\n",
    "total_subject # Returns list of tuples"
   ]
  },
  {
   "cell_type": "code",
   "execution_count": 37,
   "id": "76e3a3b6",
   "metadata": {},
   "outputs": [
    {
     "data": {
      "text/plain": [
       "list"
      ]
     },
     "execution_count": 37,
     "metadata": {},
     "output_type": "execute_result"
    }
   ],
   "source": [
    "type(total_subject)"
   ]
  },
  {
   "cell_type": "markdown",
   "id": "dd1b7bb6",
   "metadata": {},
   "source": [
    "# Control Flow Statements: if, elif, else"
   ]
  },
  {
   "cell_type": "code",
   "execution_count": 39,
   "id": "87feda1e",
   "metadata": {},
   "outputs": [],
   "source": [
    "# The if, elif, and else statements are the most commonly used control flow statements."
   ]
  },
  {
   "cell_type": "code",
   "execution_count": 40,
   "id": "9a375f30",
   "metadata": {},
   "outputs": [
    {
     "name": "stdout",
     "output_type": "stream",
     "text": [
      "adult\n"
     ]
    }
   ],
   "source": [
    "age = 21\n",
    "\n",
    "# if condition\n",
    "if age < 18:\n",
    "    print('minor')\n",
    "# else block\n",
    "else:\n",
    "    print('adult')"
   ]
  },
  {
   "cell_type": "code",
   "execution_count": 41,
   "id": "4f4d9137",
   "metadata": {},
   "outputs": [
    {
     "name": "stdout",
     "output_type": "stream",
     "text": [
      "grade B\n"
     ]
    }
   ],
   "source": [
    "marks = 81\n",
    "\n",
    "# Nested if, elif and else\n",
    "\n",
    "if marks > 90:\n",
    "    print('grade A')\n",
    "elif 80 <= marks <= 90:\n",
    "    print('grade B')\n",
    "elif 70 <= marks <= 80:\n",
    "    print('grade C')\n",
    "elif 60 <= marks <= 70:\n",
    "    print('grade D')\n",
    "else:\n",
    "    print('grade E')"
   ]
  },
  {
   "cell_type": "markdown",
   "id": "c581990e",
   "metadata": {},
   "source": [
    "# Control Flow Statements : for Loops"
   ]
  },
  {
   "cell_type": "code",
   "execution_count": 42,
   "id": "167cba3d",
   "metadata": {},
   "outputs": [],
   "source": [
    "# A for loop is used to iterate over a collection (like a list or tuple) or an iterator."
   ]
  },
  {
   "cell_type": "code",
   "execution_count": 55,
   "id": "7097350f",
   "metadata": {},
   "outputs": [],
   "source": [
    "stock_tickers = ['AAPL', 'MSFT', 'GOOGL', None, 'AMZN', 'CSCO', 'ORCEL']"
   ]
  },
  {
   "cell_type": "code",
   "execution_count": 57,
   "id": "6e62083d",
   "metadata": {},
   "outputs": [
    {
     "name": "stdout",
     "output_type": "stream",
     "text": [
      "AAPL\n",
      "MSFT\n",
      "GOOGL\n",
      "AMZN\n",
      "CSCO\n",
      "ORCEL\n"
     ]
    }
   ],
   "source": [
    "#For loop iterator\n",
    "for tickers in (stock_tickers):\n",
    "    if(tickers is None):\n",
    "        continue # The continue statement\n",
    "    print(tickers)"
   ]
  },
  {
   "cell_type": "code",
   "execution_count": 58,
   "id": "6c7296fe",
   "metadata": {},
   "outputs": [
    {
     "name": "stdout",
     "output_type": "stream",
     "text": [
      "AAPL\n",
      "MSFT\n",
      "GOOGL\n"
     ]
    }
   ],
   "source": [
    "for tickers in (stock_tickers):\n",
    "    if(tickers is None):\n",
    "        break # The break statement\n",
    "    print(tickers)"
   ]
  },
  {
   "cell_type": "markdown",
   "id": "9e254c40",
   "metadata": {},
   "source": [
    "# Control Flow Statements : while Loops"
   ]
  },
  {
   "cell_type": "code",
   "execution_count": null,
   "id": "140b9797",
   "metadata": {},
   "outputs": [],
   "source": [
    "# A while loop specifies a condition and a block of code that is to be executed until \n",
    "# the condition evaluates to False or the loop is explicitly ended with break."
   ]
  },
  {
   "cell_type": "code",
   "execution_count": 59,
   "id": "e326f155",
   "metadata": {},
   "outputs": [
    {
     "name": "stdout",
     "output_type": "stream",
     "text": [
      "100\n",
      "99\n",
      "98\n",
      "97\n",
      "96\n"
     ]
    }
   ],
   "source": [
    "# While condition\n",
    "\n",
    "temperature = 100\n",
    "\n",
    "while temperature > 95:\n",
    "    print(temperature)\n",
    "    temperature = temperature -1"
   ]
  },
  {
   "cell_type": "markdown",
   "id": "437cbf20",
   "metadata": {},
   "source": [
    "# Control Flow Statements : Exception Handling"
   ]
  },
  {
   "cell_type": "code",
   "execution_count": 60,
   "id": "7eb9835b",
   "metadata": {},
   "outputs": [],
   "source": [
    "# Handling Python errors or exceptions gracefully is an important \n",
    "# part of building robust programs and algorithms."
   ]
  },
  {
   "cell_type": "code",
   "execution_count": 61,
   "id": "dce52767",
   "metadata": {},
   "outputs": [],
   "source": [
    "#  Create function\n",
    "\n",
    "def test_float(number):\n",
    "    return float(number)"
   ]
  },
  {
   "cell_type": "code",
   "execution_count": 62,
   "id": "3a3beb0a",
   "metadata": {},
   "outputs": [
    {
     "data": {
      "text/plain": [
       "7.1231254"
      ]
     },
     "execution_count": 62,
     "metadata": {},
     "output_type": "execute_result"
    }
   ],
   "source": [
    "test_float(7.1231254)"
   ]
  },
  {
   "cell_type": "code",
   "execution_count": 63,
   "id": "764b40b1",
   "metadata": {},
   "outputs": [
    {
     "ename": "ValueError",
     "evalue": "could not convert string to float: 'test_float'",
     "output_type": "error",
     "traceback": [
      "\u001b[0;31m---------------------------------------------------------------------------\u001b[0m",
      "\u001b[0;31mValueError\u001b[0m                                Traceback (most recent call last)",
      "\u001b[0;32m<ipython-input-63-eff7b377201b>\u001b[0m in \u001b[0;36m<module>\u001b[0;34m\u001b[0m\n\u001b[0;32m----> 1\u001b[0;31m \u001b[0mtest_float\u001b[0m\u001b[0;34m(\u001b[0m\u001b[0;34m'test_float'\u001b[0m\u001b[0;34m)\u001b[0m\u001b[0;34m\u001b[0m\u001b[0;34m\u001b[0m\u001b[0m\n\u001b[0m",
      "\u001b[0;32m<ipython-input-61-72fb301e7cc0>\u001b[0m in \u001b[0;36mtest_float\u001b[0;34m(number)\u001b[0m\n\u001b[1;32m      2\u001b[0m \u001b[0;34m\u001b[0m\u001b[0m\n\u001b[1;32m      3\u001b[0m \u001b[0;32mdef\u001b[0m \u001b[0mtest_float\u001b[0m\u001b[0;34m(\u001b[0m\u001b[0mnumber\u001b[0m\u001b[0;34m)\u001b[0m\u001b[0;34m:\u001b[0m\u001b[0;34m\u001b[0m\u001b[0;34m\u001b[0m\u001b[0m\n\u001b[0;32m----> 4\u001b[0;31m     \u001b[0;32mreturn\u001b[0m \u001b[0mfloat\u001b[0m\u001b[0;34m(\u001b[0m\u001b[0mnumber\u001b[0m\u001b[0;34m)\u001b[0m\u001b[0;34m\u001b[0m\u001b[0;34m\u001b[0m\u001b[0m\n\u001b[0m",
      "\u001b[0;31mValueError\u001b[0m: could not convert string to float: 'test_float'"
     ]
    }
   ],
   "source": [
    "# Pass wrong argument type \n",
    "test_float('test_float')\n",
    "# Error: not convert string to float"
   ]
  },
  {
   "cell_type": "code",
   "execution_count": 64,
   "id": "0ea771b6",
   "metadata": {},
   "outputs": [],
   "source": [
    "# Exception handling with try-except block\n",
    "def test_float(number):\n",
    "    try: \n",
    "        return float(number)\n",
    "    except ValueError:\n",
    "        return 'not number, the input value is', number"
   ]
  },
  {
   "cell_type": "code",
   "execution_count": 65,
   "id": "ab3c29d5",
   "metadata": {},
   "outputs": [
    {
     "data": {
      "text/plain": [
       "('not number, the input value is', 'test_float')"
      ]
     },
     "execution_count": 65,
     "metadata": {},
     "output_type": "execute_result"
    }
   ],
   "source": [
    "test_float('test_float')"
   ]
  }
 ],
 "metadata": {
  "kernelspec": {
   "display_name": "Python 3",
   "language": "python",
   "name": "python3"
  },
  "language_info": {
   "codemirror_mode": {
    "name": "ipython",
    "version": 3
   },
   "file_extension": ".py",
   "mimetype": "text/x-python",
   "name": "python",
   "nbconvert_exporter": "python",
   "pygments_lexer": "ipython3",
   "version": "3.8.8"
  }
 },
 "nbformat": 4,
 "nbformat_minor": 5
}
