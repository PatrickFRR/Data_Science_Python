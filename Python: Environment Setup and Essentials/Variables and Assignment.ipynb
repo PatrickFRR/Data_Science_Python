{
 "cells": [
  {
   "cell_type": "markdown",
   "id": "a0a8a708",
   "metadata": {},
   "source": [
    "# Variables and Assignment"
   ]
  },
  {
   "cell_type": "code",
   "execution_count": 1,
   "id": "b98dbfa7",
   "metadata": {},
   "outputs": [
    {
     "data": {
      "text/plain": [
       "int"
      ]
     },
     "execution_count": 1,
     "metadata": {},
     "output_type": "execute_result"
    }
   ],
   "source": [
    "# The variable refers to the memory location of the assigned value.\n",
    "x = 19\n",
    "type(x)"
   ]
  },
  {
   "cell_type": "code",
   "execution_count": 2,
   "id": "cf23f8e3",
   "metadata": {},
   "outputs": [
    {
     "data": {
      "text/plain": [
       "float"
      ]
     },
     "execution_count": 2,
     "metadata": {},
     "output_type": "execute_result"
    }
   ],
   "source": [
    "# The variable appears on the left, while the value appears on the right.\n",
    "y = 3.5\n",
    "type(y)"
   ]
  },
  {
   "cell_type": "code",
   "execution_count": 3,
   "id": "daa2ee5c",
   "metadata": {},
   "outputs": [
    {
     "data": {
      "text/plain": [
       "str"
      ]
     },
     "execution_count": 3,
     "metadata": {},
     "output_type": "execute_result"
    }
   ],
   "source": [
    "# The data type of the assigned value and the variable is the same.\n",
    "z = 'value'\n",
    "type(z)"
   ]
  },
  {
   "cell_type": "markdown",
   "id": "463a2254",
   "metadata": {},
   "source": [
    "# Variables and Assignment: Example"
   ]
  },
  {
   "cell_type": "code",
   "execution_count": 4,
   "id": "a10824bf",
   "metadata": {},
   "outputs": [],
   "source": [
    "#Assingnment\n",
    "string_variable = 'value'\n",
    "integer_variable = 1980"
   ]
  },
  {
   "cell_type": "code",
   "execution_count": 5,
   "id": "9ac980c5",
   "metadata": {},
   "outputs": [
    {
     "name": "stdout",
     "output_type": "stream",
     "text": [
      "value\n",
      "1980\n"
     ]
    }
   ],
   "source": [
    "#Variable data value\n",
    "print(string_variable)\n",
    "print(integer_variable)"
   ]
  },
  {
   "cell_type": "code",
   "execution_count": 6,
   "id": "7e3716bd",
   "metadata": {},
   "outputs": [
    {
     "name": "stdout",
     "output_type": "stream",
     "text": [
      "<class 'str'>\n",
      "<class 'int'>\n"
     ]
    }
   ],
   "source": [
    "#Data type of the object\n",
    "print(type(string_variable))\n",
    "print(type(integer_variable))"
   ]
  },
  {
   "cell_type": "markdown",
   "id": "72f7afad",
   "metadata": {},
   "source": [
    "# Multiple Assignments"
   ]
  },
  {
   "cell_type": "code",
   "execution_count": 7,
   "id": "003a2098",
   "metadata": {},
   "outputs": [
    {
     "ename": "NameError",
     "evalue": "name 'number_example' is not defined",
     "output_type": "error",
     "traceback": [
      "\u001b[0;31m---------------------------------------------------------------------------\u001b[0m",
      "\u001b[0;31mNameError\u001b[0m                                 Traceback (most recent call last)",
      "\u001b[0;32m<ipython-input-7-255ac40e8f55>\u001b[0m in \u001b[0;36m<module>\u001b[0;34m\u001b[0m\n\u001b[1;32m      1\u001b[0m \u001b[0;31m#Access variable without assignment\u001b[0m\u001b[0;34m\u001b[0m\u001b[0;34m\u001b[0m\u001b[0;34m\u001b[0m\u001b[0m\n\u001b[0;32m----> 2\u001b[0;31m \u001b[0mnumber_example\u001b[0m\u001b[0;34m\u001b[0m\u001b[0;34m\u001b[0m\u001b[0m\n\u001b[0m",
      "\u001b[0;31mNameError\u001b[0m: name 'number_example' is not defined"
     ]
    }
   ],
   "source": [
    "#Access variable without assignment\n",
    "number_example"
   ]
  },
  {
   "cell_type": "code",
   "execution_count": 8,
   "id": "025e8bb8",
   "metadata": {},
   "outputs": [
    {
     "data": {
      "text/plain": [
       "12"
      ]
     },
     "execution_count": 8,
     "metadata": {},
     "output_type": "execute_result"
    }
   ],
   "source": [
    "#Access variable after assignment\n",
    "number_example = 12\n",
    "number_example"
   ]
  },
  {
   "cell_type": "code",
   "execution_count": 9,
   "id": "58443598",
   "metadata": {},
   "outputs": [],
   "source": [
    "#Multiple assignments\n",
    "interger_x, interger_y = 5,22"
   ]
  },
  {
   "cell_type": "code",
   "execution_count": 10,
   "id": "e737667b",
   "metadata": {},
   "outputs": [
    {
     "data": {
      "text/plain": [
       "5"
      ]
     },
     "execution_count": 10,
     "metadata": {},
     "output_type": "execute_result"
    }
   ],
   "source": [
    "interger_x"
   ]
  },
  {
   "cell_type": "code",
   "execution_count": 11,
   "id": "1d3f4869",
   "metadata": {},
   "outputs": [
    {
     "data": {
      "text/plain": [
       "22"
      ]
     },
     "execution_count": 11,
     "metadata": {},
     "output_type": "execute_result"
    }
   ],
   "source": [
    "interger_y"
   ]
  },
  {
   "cell_type": "markdown",
   "id": "7aa9ee06",
   "metadata": {},
   "source": [
    "# Assignment and Reference"
   ]
  },
  {
   "cell_type": "code",
   "execution_count": null,
   "id": "602f9735",
   "metadata": {},
   "outputs": [],
   "source": [
    "# When a variable is assigned a value, it refers to the value’s memory location or address. \n",
    "# It does not equal the value itself.\n",
    "x = 11 # Memory location Ref:<adress 1> and after Garbage coollected\n",
    "x = x + 1  # Memory location Ref: <adress 12> \n",
    "print(x)"
   ]
  }
 ],
 "metadata": {
  "kernelspec": {
   "display_name": "Python 3",
   "language": "python",
   "name": "python3"
  },
  "language_info": {
   "codemirror_mode": {
    "name": "ipython",
    "version": 3
   },
   "file_extension": ".py",
   "mimetype": "text/x-python",
   "name": "python",
   "nbconvert_exporter": "python",
   "pygments_lexer": "ipython3",
   "version": "3.8.8"
  }
 },
 "nbformat": 4,
 "nbformat_minor": 5
}
