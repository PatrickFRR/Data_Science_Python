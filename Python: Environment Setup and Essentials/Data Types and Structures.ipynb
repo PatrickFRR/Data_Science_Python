{
 "cells": [
  {
   "cell_type": "markdown",
   "id": "606273aa",
   "metadata": {},
   "source": [
    "# Basic Data Types: Integer and Float"
   ]
  },
  {
   "cell_type": "code",
   "execution_count": 4,
   "id": "c01cabf5",
   "metadata": {},
   "outputs": [
    {
     "data": {
      "text/plain": [
       "3"
      ]
     },
     "execution_count": 4,
     "metadata": {},
     "output_type": "execute_result"
    }
   ],
   "source": [
    "# Python supports various data types. There are two main numeric data types:\n",
    "\n",
    "int_number = 7//2 # division integer\n",
    "int_number #Integer value"
   ]
  },
  {
   "cell_type": "code",
   "execution_count": 6,
   "id": "4ed73ff3",
   "metadata": {},
   "outputs": [
    {
     "data": {
      "text/plain": [
       "3.5"
      ]
     },
     "execution_count": 6,
     "metadata": {},
     "output_type": "execute_result"
    }
   ],
   "source": [
    "float_number = 7/2 #division integer or float\n",
    "float_number # Float value"
   ]
  },
  {
   "cell_type": "markdown",
   "id": "e9b7e8f4",
   "metadata": {},
   "source": [
    "# Basic Data Types: String"
   ]
  },
  {
   "cell_type": "code",
   "execution_count": 13,
   "id": "dfbb43ee",
   "metadata": {},
   "outputs": [],
   "source": [
    "# Python has extremely powerful and flexible built-in string processing capabilities.\n",
    "\n",
    "string_a = 'a' # With single quote\n",
    "string_b = \"b\" # With double quote"
   ]
  },
  {
   "cell_type": "code",
   "execution_count": 14,
   "id": "a1ff7afa",
   "metadata": {},
   "outputs": [
    {
     "name": "stdout",
     "output_type": "stream",
     "text": [
      "a\n",
      "b\n"
     ]
    }
   ],
   "source": [
    "print(string_a)\n",
    "print(string_b)"
   ]
  },
  {
   "cell_type": "code",
   "execution_count": 16,
   "id": "de12c2b5",
   "metadata": {},
   "outputs": [
    {
     "name": "stdout",
     "output_type": "stream",
     "text": [
      "'c'\n"
     ]
    }
   ],
   "source": [
    "#Atention!!!\n",
    "string_c = \"'c'\" # With single and double quote\n",
    "print(string_c)"
   ]
  },
  {
   "cell_type": "markdown",
   "id": "637bf1a8",
   "metadata": {},
   "source": [
    "# Basic Data Types: None and Boolean"
   ]
  },
  {
   "cell_type": "code",
   "execution_count": 17,
   "id": "1d67d68f",
   "metadata": {},
   "outputs": [
    {
     "data": {
      "text/plain": [
       "True"
      ]
     },
     "execution_count": 17,
     "metadata": {},
     "output_type": "execute_result"
    }
   ],
   "source": [
    "# Python also supports the None and Boolean data types.\n",
    "\n",
    "num_x = None # Null value type\n",
    "num_x is None"
   ]
  },
  {
   "cell_type": "code",
   "execution_count": 18,
   "id": "6f0b8665",
   "metadata": {},
   "outputs": [
    {
     "data": {
      "text/plain": [
       "False"
      ]
     },
     "execution_count": 18,
     "metadata": {},
     "output_type": "execute_result"
    }
   ],
   "source": [
    "num_x = 10\n",
    "num_x is None"
   ]
  },
  {
   "cell_type": "markdown",
   "id": "bdd60c7d",
   "metadata": {},
   "source": [
    "# Type Casting"
   ]
  },
  {
   "cell_type": "code",
   "execution_count": 19,
   "id": "7d38e20e",
   "metadata": {},
   "outputs": [
    {
     "data": {
      "text/plain": [
       "3.56788"
      ]
     },
     "execution_count": 19,
     "metadata": {},
     "output_type": "execute_result"
    }
   ],
   "source": [
    "# Float number\n",
    "float_n = 3.56788\n",
    "float_n"
   ]
  },
  {
   "cell_type": "code",
   "execution_count": 20,
   "id": "8578eae9",
   "metadata": {},
   "outputs": [
    {
     "data": {
      "text/plain": [
       "3"
      ]
     },
     "execution_count": 20,
     "metadata": {},
     "output_type": "execute_result"
    }
   ],
   "source": [
    "# Type cast to integer\n",
    "int(float_n)"
   ]
  },
  {
   "cell_type": "code",
   "execution_count": 21,
   "id": "eaa226cd",
   "metadata": {},
   "outputs": [
    {
     "data": {
      "text/plain": [
       "'3.56788'"
      ]
     },
     "execution_count": 21,
     "metadata": {},
     "output_type": "execute_result"
    }
   ],
   "source": [
    "# Type cast to string value\n",
    "str(float_n)"
   ]
  },
  {
   "cell_type": "markdown",
   "id": "b72593a8",
   "metadata": {},
   "source": [
    "# Data Structure: Tuple"
   ]
  },
  {
   "cell_type": "code",
   "execution_count": 22,
   "id": "5e24a0ba",
   "metadata": {},
   "outputs": [
    {
     "data": {
      "text/plain": [
       "(12, 'Manu', 35.6, 'show', (4, 5), 'example')"
      ]
     },
     "execution_count": 22,
     "metadata": {},
     "output_type": "execute_result"
    }
   ],
   "source": [
    "# A tuple is a one-dimensional, immutable ordered sequence of items which can be of mixed data types.\n",
    "\n",
    "# Create a tuple\n",
    "a_tuple = (12, 'Manu', 35.6, 'show', (4,5), 'example')\n",
    "a_tuple # View tuple"
   ]
  },
  {
   "cell_type": "code",
   "execution_count": 23,
   "id": "85e5e758",
   "metadata": {},
   "outputs": [
    {
     "data": {
      "text/plain": [
       "'Manu'"
      ]
     },
     "execution_count": 23,
     "metadata": {},
     "output_type": "execute_result"
    }
   ],
   "source": [
    "a_tuple[1] # Access the data at index value 1"
   ]
  },
  {
   "cell_type": "code",
   "execution_count": 24,
   "id": "5cdc414f",
   "metadata": {},
   "outputs": [
    {
     "ename": "TypeError",
     "evalue": "'tuple' object does not support item assignment",
     "output_type": "error",
     "traceback": [
      "\u001b[0;31m---------------------------------------------------------------------------\u001b[0m",
      "\u001b[0;31mTypeError\u001b[0m                                 Traceback (most recent call last)",
      "\u001b[0;32m<ipython-input-24-a163078fa056>\u001b[0m in \u001b[0;36m<module>\u001b[0;34m\u001b[0m\n\u001b[0;32m----> 1\u001b[0;31m \u001b[0ma_tuple\u001b[0m\u001b[0;34m[\u001b[0m\u001b[0;36m1\u001b[0m\u001b[0;34m]\u001b[0m \u001b[0;34m=\u001b[0m \u001b[0;34m'Peter'\u001b[0m\u001b[0;34m\u001b[0m\u001b[0;34m\u001b[0m\u001b[0m\n\u001b[0m",
      "\u001b[0;31mTypeError\u001b[0m: 'tuple' object does not support item assignment"
     ]
    }
   ],
   "source": [
    "a_tuple[1] = 'Peter' # Try to modify the tuple \n",
    "# Error: A tuple is immutable and can't be modified"
   ]
  },
  {
   "cell_type": "markdown",
   "id": "68bae218",
   "metadata": {},
   "source": [
    "# Data Structure: Accessing Tuples"
   ]
  },
  {
   "cell_type": "code",
   "execution_count": 25,
   "id": "3c2f5dd8",
   "metadata": {},
   "outputs": [
    {
     "data": {
      "text/plain": [
       "(12, 'Manu', 35.6, 'show', (4, 5), 'example')"
      ]
     },
     "execution_count": 25,
     "metadata": {},
     "output_type": "execute_result"
    }
   ],
   "source": [
    "a_tuple"
   ]
  },
  {
   "cell_type": "code",
   "execution_count": 26,
   "id": "d32b5748",
   "metadata": {},
   "outputs": [
    {
     "data": {
      "text/plain": [
       "35.6"
      ]
     },
     "execution_count": 26,
     "metadata": {},
     "output_type": "execute_result"
    }
   ],
   "source": [
    "#Access with positive index\n",
    "a_tuple[2]"
   ]
  },
  {
   "cell_type": "code",
   "execution_count": 27,
   "id": "429fe229",
   "metadata": {},
   "outputs": [
    {
     "data": {
      "text/plain": [
       "(4, 5)"
      ]
     },
     "execution_count": 27,
     "metadata": {},
     "output_type": "execute_result"
    }
   ],
   "source": [
    "#Acess with negative index\n",
    "a_tuple[-2]"
   ]
  },
  {
   "cell_type": "markdown",
   "id": "d8fbe19a",
   "metadata": {},
   "source": [
    "# Data Structure: Slicing Tuples"
   ]
  },
  {
   "cell_type": "code",
   "execution_count": 31,
   "id": "f369795a",
   "metadata": {},
   "outputs": [
    {
     "data": {
      "text/plain": [
       "(35.6, 'show')"
      ]
     },
     "execution_count": 31,
     "metadata": {},
     "output_type": "execute_result"
    }
   ],
   "source": [
    "# You can also slice a range of elements by specifying the start and end indices of the desired range.\n",
    "\n",
    "# Count starts with the first index, but stops before the second index\n",
    "a_tuple[2:4]"
   ]
  },
  {
   "cell_type": "code",
   "execution_count": 32,
   "id": "2afd4055",
   "metadata": {},
   "outputs": [
    {
     "data": {
      "text/plain": [
       "(35.6, 'show')"
      ]
     },
     "execution_count": 32,
     "metadata": {},
     "output_type": "execute_result"
    }
   ],
   "source": [
    "# Even for negative indices, the count stops before the second index\n",
    "a_tuple[2:-2]"
   ]
  },
  {
   "cell_type": "markdown",
   "id": "20645d2c",
   "metadata": {},
   "source": [
    "# Data Structure: List"
   ]
  },
  {
   "cell_type": "code",
   "execution_count": 33,
   "id": "aa058914",
   "metadata": {},
   "outputs": [
    {
     "data": {
      "text/plain": [
       "['Manu', 12, 36.4, 'example', None, 1980]"
      ]
     },
     "execution_count": 33,
     "metadata": {},
     "output_type": "execute_result"
    }
   ],
   "source": [
    "# A list is a one-dimensional, mutable ordered sequence of items which can be of mixed data types.\n",
    "\n",
    "# Create a list\n",
    "a_list = ['Manu', 12, 36.4, 'example', None, 1980]\n",
    "a_list # View a list"
   ]
  },
  {
   "cell_type": "code",
   "execution_count": 34,
   "id": "b9c46771",
   "metadata": {},
   "outputs": [
    {
     "data": {
      "text/plain": [
       "['Manu', 12, 36.4, 'example', None, 1980, 'Lilica']"
      ]
     },
     "execution_count": 34,
     "metadata": {},
     "output_type": "execute_result"
    }
   ],
   "source": [
    "# Modify a list: Add new items\n",
    "\n",
    "a_list.append('Lilica')\n",
    "a_list"
   ]
  },
  {
   "cell_type": "code",
   "execution_count": 35,
   "id": "7c85df79",
   "metadata": {},
   "outputs": [
    {
     "data": {
      "text/plain": [
       "[12, 36.4, 'example', None, 1980, 'Lilica']"
      ]
     },
     "execution_count": 35,
     "metadata": {},
     "output_type": "execute_result"
    }
   ],
   "source": [
    "# Modify a list: Remove items\n",
    "a_list.remove('Manu')\n",
    "a_list"
   ]
  },
  {
   "cell_type": "code",
   "execution_count": 36,
   "id": "e142a53d",
   "metadata": {},
   "outputs": [
    {
     "data": {
      "text/plain": [
       "'example'"
      ]
     },
     "execution_count": 36,
     "metadata": {},
     "output_type": "execute_result"
    }
   ],
   "source": [
    "# Access and remove list data using element indices\n",
    "a_list.pop(2)"
   ]
  },
  {
   "cell_type": "code",
   "execution_count": 37,
   "id": "49658e8f",
   "metadata": {},
   "outputs": [
    {
     "data": {
      "text/plain": [
       "[12, 'Coquito', 36.4, None, 1980, 'Lilica']"
      ]
     },
     "execution_count": 37,
     "metadata": {},
     "output_type": "execute_result"
    }
   ],
   "source": [
    "# Modify a list: Insert a new item at a certain index\n",
    "\n",
    "a_list.insert(1, 'Coquito')\n",
    "a_list"
   ]
  },
  {
   "cell_type": "markdown",
   "id": "2f83f6e0",
   "metadata": {},
   "source": [
    "# Data Structure: Accessing Lists"
   ]
  },
  {
   "cell_type": "code",
   "execution_count": 38,
   "id": "3a10bd66",
   "metadata": {},
   "outputs": [
    {
     "data": {
      "text/plain": [
       "[12, 'Coquito', 36.4, None, 1980, 'Lilica']"
      ]
     },
     "execution_count": 38,
     "metadata": {},
     "output_type": "execute_result"
    }
   ],
   "source": [
    "# Just like tuples, you can access elements in a list through indices.\n",
    "\n",
    "a_list # New modified list"
   ]
  },
  {
   "cell_type": "code",
   "execution_count": 39,
   "id": "0c14d8f9",
   "metadata": {},
   "outputs": [
    {
     "data": {
      "text/plain": [
       "36.4"
      ]
     },
     "execution_count": 39,
     "metadata": {},
     "output_type": "execute_result"
    }
   ],
   "source": [
    "# Acess with positive index\n",
    "a_list[2]"
   ]
  },
  {
   "cell_type": "code",
   "execution_count": 40,
   "id": "52d41f55",
   "metadata": {},
   "outputs": [
    {
     "data": {
      "text/plain": [
       "1980"
      ]
     },
     "execution_count": 40,
     "metadata": {},
     "output_type": "execute_result"
    }
   ],
   "source": [
    "# Acess with negative index\n",
    "a_list[-2]"
   ]
  },
  {
   "cell_type": "markdown",
   "id": "7cb5bdc4",
   "metadata": {},
   "source": [
    "# Data Structure: Slicing Lists"
   ]
  },
  {
   "cell_type": "code",
   "execution_count": 41,
   "id": "978dfa8b",
   "metadata": {},
   "outputs": [
    {
     "data": {
      "text/plain": [
       "[36.4, None]"
      ]
     },
     "execution_count": 41,
     "metadata": {},
     "output_type": "execute_result"
    }
   ],
   "source": [
    "# Similar to tuples, you can also slice lists through indices.\n",
    "\n",
    "# Count starts with the first index, but stops before the second index\n",
    "a_list[2:4]"
   ]
  },
  {
   "cell_type": "code",
   "execution_count": 42,
   "id": "352cd10d",
   "metadata": {},
   "outputs": [
    {
     "data": {
      "text/plain": [
       "[36.4, None]"
      ]
     },
     "execution_count": 42,
     "metadata": {},
     "output_type": "execute_result"
    }
   ],
   "source": [
    "# Even for negative indices, the count stops before the second index\n",
    "a_list[2:-2]"
   ]
  },
  {
   "cell_type": "markdown",
   "id": "26b48378",
   "metadata": {},
   "source": [
    "# Data Structure: Dictionary"
   ]
  },
  {
   "cell_type": "code",
   "execution_count": 43,
   "id": "caa7f60a",
   "metadata": {},
   "outputs": [
    {
     "data": {
      "text/plain": [
       "{'Manu': 'manu@player.com', 'Lilica': 'lilica@read.com', 'id': [10, 43]}"
      ]
     },
     "execution_count": 43,
     "metadata": {},
     "output_type": "execute_result"
    }
   ],
   "source": [
    "# You can view the keys and values in a dict, either separately or together, using the syntax shown here.\n",
    "\n",
    "# Create a dcitionary\n",
    "a_dict = {'Manu': 'manu@player.com', 'Lilica': 'lilica@read.com', 'id':[10,43]}\n",
    "a_dict # View entire dictionary"
   ]
  },
  {
   "cell_type": "code",
   "execution_count": 44,
   "id": "c147dfd7",
   "metadata": {},
   "outputs": [
    {
     "data": {
      "text/plain": [
       "dict_keys(['Manu', 'Lilica', 'id'])"
      ]
     },
     "execution_count": 44,
     "metadata": {},
     "output_type": "execute_result"
    }
   ],
   "source": [
    "# View only keys\n",
    "a_dict.keys()"
   ]
  },
  {
   "cell_type": "code",
   "execution_count": 45,
   "id": "2a42a095",
   "metadata": {},
   "outputs": [
    {
     "data": {
      "text/plain": [
       "dict_values(['manu@player.com', 'lilica@read.com', [10, 43]])"
      ]
     },
     "execution_count": 45,
     "metadata": {},
     "output_type": "execute_result"
    }
   ],
   "source": [
    "# View only values\n",
    "a_dict.values()"
   ]
  },
  {
   "cell_type": "markdown",
   "id": "5442e0f6",
   "metadata": {},
   "source": [
    "# Data Structure: Access and Modify dict Elements"
   ]
  },
  {
   "cell_type": "code",
   "execution_count": 51,
   "id": "60d2b6ed",
   "metadata": {},
   "outputs": [
    {
     "data": {
      "text/plain": [
       "'lilica@read.com'"
      ]
     },
     "execution_count": 51,
     "metadata": {},
     "output_type": "execute_result"
    }
   ],
   "source": [
    "# You can also access and modify individual elements in a dict.\n",
    "\n",
    "# Access with key\n",
    "a_dict['Lilica']"
   ]
  },
  {
   "cell_type": "code",
   "execution_count": 50,
   "id": "b0fe91a1",
   "metadata": {},
   "outputs": [
    {
     "data": {
      "text/plain": [
       "[10, 43]"
      ]
     },
     "execution_count": 50,
     "metadata": {},
     "output_type": "execute_result"
    }
   ],
   "source": [
    "a_dict['id']"
   ]
  },
  {
   "cell_type": "code",
   "execution_count": 52,
   "id": "3278d890",
   "metadata": {},
   "outputs": [
    {
     "data": {
      "text/plain": [
       "{'Manu': 'manu@player.com', 'Lilica': 'lilica@read.com', 'id': [12, 44]}"
      ]
     },
     "execution_count": 52,
     "metadata": {},
     "output_type": "execute_result"
    }
   ],
   "source": [
    "# Modify dictionary: update\n",
    "a_dict.update({'id':[12,44]})\n",
    "a_dict"
   ]
  },
  {
   "cell_type": "code",
   "execution_count": 53,
   "id": "bfa51031",
   "metadata": {},
   "outputs": [
    {
     "data": {
      "text/plain": [
       "{'Manu': 'manu@player.com', 'Lilica': 'lilica@read.com'}"
      ]
     },
     "execution_count": 53,
     "metadata": {},
     "output_type": "execute_result"
    }
   ],
   "source": [
    "# Modify dictionary: delete\n",
    "\n",
    "del a_dict['id']\n",
    "a_dict"
   ]
  },
  {
   "cell_type": "markdown",
   "id": "676741c7",
   "metadata": {},
   "source": [
    "# Data Structure: Set"
   ]
  },
  {
   "cell_type": "code",
   "execution_count": 55,
   "id": "5e9f2813",
   "metadata": {},
   "outputs": [
    {
     "data": {
      "text/plain": [
       "{'Blik', 'Credance', 'Iron Maiden', 'Kansas', 'Metalica', 'U2', 'ZZ Top'}"
      ]
     },
     "execution_count": 55,
     "metadata": {},
     "output_type": "execute_result"
    }
   ],
   "source": [
    "# A set is an unordered collection of unique elements.\n",
    "\n",
    "# Create a set\n",
    "\n",
    "band_survey = set(['Iron Maiden', 'Metalica', 'U2', 'Credance', 'Kansas', 'ZZ Top', 'Blik'])\n",
    "band_survey # View the set"
   ]
  },
  {
   "cell_type": "code",
   "execution_count": 56,
   "id": "e6b60297",
   "metadata": {},
   "outputs": [
    {
     "data": {
      "text/plain": [
       "set"
      ]
     },
     "execution_count": 56,
     "metadata": {},
     "output_type": "execute_result"
    }
   ],
   "source": [
    "# Creat a set\n",
    "\n",
    "band_survey_set = {'Iron Maiden', 'Metalica', 'U2', 'Credance', 'Kansas', 'ZZ Top', 'Blik'}\n",
    "type(band_survey_set)"
   ]
  },
  {
   "cell_type": "code",
   "execution_count": 57,
   "id": "d63140ba",
   "metadata": {},
   "outputs": [
    {
     "data": {
      "text/plain": [
       "{'Blik', 'Credance', 'Iron Maiden', 'Kansas', 'Metalica', 'U2', 'ZZ Top'}"
      ]
     },
     "execution_count": 57,
     "metadata": {},
     "output_type": "execute_result"
    }
   ],
   "source": [
    "band_survey_set # View the set"
   ]
  },
  {
   "cell_type": "markdown",
   "id": "51dfed09",
   "metadata": {},
   "source": [
    "# Data Structure: Set Operations"
   ]
  },
  {
   "cell_type": "code",
   "execution_count": 58,
   "id": "a259895f",
   "metadata": {},
   "outputs": [],
   "source": [
    "# Let us look at some basic set operations.\n",
    "\n",
    "# Create sets\n",
    "band_1 = set(['Iron Maiden', 'Metalica', 'U2', 'Credance', 'Kansas', 'ZZ Top', 'Blik'])\n",
    "band_2 = set(['Iron Maiden', 'Metalica', 'Bon Jovi', 'Nirvana', 'Green Day', 'ZZ Top', 'B52'])"
   ]
  },
  {
   "cell_type": "code",
   "execution_count": 61,
   "id": "1302a701",
   "metadata": {},
   "outputs": [],
   "source": [
    "# OR - Union set operation\n",
    "combined_report = band_1 | band_2"
   ]
  },
  {
   "cell_type": "code",
   "execution_count": 62,
   "id": "33fbf22d",
   "metadata": {},
   "outputs": [
    {
     "data": {
      "text/plain": [
       "{'B52',\n",
       " 'Blik',\n",
       " 'Bon Jovi',\n",
       " 'Credance',\n",
       " 'Green Day',\n",
       " 'Iron Maiden',\n",
       " 'Kansas',\n",
       " 'Metalica',\n",
       " 'Nirvana',\n",
       " 'U2',\n",
       " 'ZZ Top'}"
      ]
     },
     "execution_count": 62,
     "metadata": {},
     "output_type": "execute_result"
    }
   ],
   "source": [
    "# View the output of the OR operation\n",
    "combined_report"
   ]
  },
  {
   "cell_type": "code",
   "execution_count": 63,
   "id": "0c49eeb2",
   "metadata": {},
   "outputs": [],
   "source": [
    "# AND – Intersection set operation\n",
    "common_report = band_1 & band_2"
   ]
  },
  {
   "cell_type": "code",
   "execution_count": 64,
   "id": "ea53d36c",
   "metadata": {},
   "outputs": [
    {
     "data": {
      "text/plain": [
       "{'Iron Maiden', 'Metalica', 'ZZ Top'}"
      ]
     },
     "execution_count": 64,
     "metadata": {},
     "output_type": "execute_result"
    }
   ],
   "source": [
    "# View the output of the AND operation\n",
    "common_report"
   ]
  },
  {
   "cell_type": "markdown",
   "id": "3dc09d32",
   "metadata": {},
   "source": [
    "# Basic Operator: in"
   ]
  },
  {
   "cell_type": "code",
   "execution_count": 65,
   "id": "8e2d4318",
   "metadata": {},
   "outputs": [],
   "source": [
    "# The in operator is used to generate a Boolean value to indicate whether a given value is present\n",
    "# in the container or not.\n",
    "\n",
    "# Create list\n",
    "band_list = ['Iron Maiden', 'Metalica', 'Bon Jovi', 'Nirvana', 'Green Day', 'ZZ Top', 'B52']"
   ]
  },
  {
   "cell_type": "code",
   "execution_count": 66,
   "id": "a7740708",
   "metadata": {},
   "outputs": [
    {
     "data": {
      "text/plain": [
       "False"
      ]
     },
     "execution_count": 66,
     "metadata": {},
     "output_type": "execute_result"
    }
   ],
   "source": [
    "# Test presence of string with in operation\n",
    "'U2' in band_list"
   ]
  },
  {
   "cell_type": "code",
   "execution_count": 67,
   "id": "d0819b54",
   "metadata": {},
   "outputs": [
    {
     "data": {
      "text/plain": [
       "True"
      ]
     },
     "execution_count": 67,
     "metadata": {},
     "output_type": "execute_result"
    }
   ],
   "source": [
    "'Metalica' in band_list"
   ]
  },
  {
   "cell_type": "code",
   "execution_count": 68,
   "id": "363cc5ff",
   "metadata": {},
   "outputs": [],
   "source": [
    "# Create a string\n",
    "word = 'encyclopedia'"
   ]
  },
  {
   "cell_type": "code",
   "execution_count": 69,
   "id": "7db20e72",
   "metadata": {},
   "outputs": [
    {
     "data": {
      "text/plain": [
       "False"
      ]
     },
     "execution_count": 69,
     "metadata": {},
     "output_type": "execute_result"
    }
   ],
   "source": [
    "# Test presence of substrings with in operator\n",
    "'t' in word"
   ]
  },
  {
   "cell_type": "code",
   "execution_count": 70,
   "id": "4f019381",
   "metadata": {},
   "outputs": [
    {
     "data": {
      "text/plain": [
       "True"
      ]
     },
     "execution_count": 70,
     "metadata": {},
     "output_type": "execute_result"
    }
   ],
   "source": [
    "'i' in word"
   ]
  },
  {
   "cell_type": "markdown",
   "id": "5a521f82",
   "metadata": {},
   "source": [
    "# Basic Operator: +"
   ]
  },
  {
   "cell_type": "code",
   "execution_count": 79,
   "id": "4653dd2e",
   "metadata": {},
   "outputs": [],
   "source": [
    "# The plus operator produces a new tuple, list, or string whose value is the concatenation of its arguments.\n",
    "\n",
    "# Create tuples\n",
    "tuple_1 = (10, 20, 30)\n",
    "tuple_2 = (11, 22, 33)"
   ]
  },
  {
   "cell_type": "code",
   "execution_count": 80,
   "id": "f9c1fc0e",
   "metadata": {},
   "outputs": [
    {
     "data": {
      "text/plain": [
       "(10, 20, 30, 11, 22, 33)"
      ]
     },
     "execution_count": 80,
     "metadata": {},
     "output_type": "execute_result"
    }
   ],
   "source": [
    "# Add tuples\n",
    "\n",
    "tuple_3 = tuple_1 + tuple_2\n",
    "tuple_3"
   ]
  },
  {
   "cell_type": "code",
   "execution_count": 81,
   "id": "ec850437",
   "metadata": {},
   "outputs": [],
   "source": [
    "#Create lists\n",
    "list_1 = ['10', '20', '30']\n",
    "list_2 = ['11', '22', '33']"
   ]
  },
  {
   "cell_type": "code",
   "execution_count": 82,
   "id": "9e0feda7",
   "metadata": {},
   "outputs": [
    {
     "data": {
      "text/plain": [
       "['10', '20', '30', '11', '22', '33']"
      ]
     },
     "execution_count": 82,
     "metadata": {},
     "output_type": "execute_result"
    }
   ],
   "source": [
    "# Add lists\n",
    "list_3 = list_1 + list_2\n",
    "list_3"
   ]
  },
  {
   "cell_type": "code",
   "execution_count": 83,
   "id": "62c657e2",
   "metadata": {},
   "outputs": [],
   "source": [
    "# Create strings\n",
    "first_name = 'Manu'\n",
    "last_name = 'Ribeiro'"
   ]
  },
  {
   "cell_type": "code",
   "execution_count": 84,
   "id": "382e808d",
   "metadata": {},
   "outputs": [
    {
     "data": {
      "text/plain": [
       "'Manu Ribeiro'"
      ]
     },
     "execution_count": 84,
     "metadata": {},
     "output_type": "execute_result"
    }
   ],
   "source": [
    "# Concatenate strings\n",
    "full_name = first_name + ' ' + last_name\n",
    "full_name"
   ]
  },
  {
   "cell_type": "code",
   "execution_count": 85,
   "id": "c8ea98fd",
   "metadata": {},
   "outputs": [
    {
     "data": {
      "text/plain": [
       "'ManuRibeiro'"
      ]
     },
     "execution_count": 85,
     "metadata": {},
     "output_type": "execute_result"
    }
   ],
   "source": [
    "#Atention!!\n",
    "full_name = first_name + last_name\n",
    "full_name"
   ]
  },
  {
   "cell_type": "markdown",
   "id": "133af6ae",
   "metadata": {},
   "source": [
    "# Basic Operator: *"
   ]
  },
  {
   "cell_type": "code",
   "execution_count": 86,
   "id": "eeb5cc7c",
   "metadata": {},
   "outputs": [
    {
     "data": {
      "text/plain": [
       "(12, 17, 9, 12, 17, 9, 12, 17, 9)"
      ]
     },
     "execution_count": 86,
     "metadata": {},
     "output_type": "execute_result"
    }
   ],
   "source": [
    "# The multiplication operator produces a new tuple, list, or string that repeats the original content.\n",
    "\n",
    "# * operator with tuple\n",
    "age = (12, 17, 9) * 3\n",
    "age"
   ]
  },
  {
   "cell_type": "code",
   "execution_count": 87,
   "id": "9ce8a22e",
   "metadata": {},
   "outputs": [
    {
     "data": {
      "text/plain": [
       "[101, 23, 77, 45, 101, 23, 77, 45]"
      ]
     },
     "execution_count": 87,
     "metadata": {},
     "output_type": "execute_result"
    }
   ],
   "source": [
    "# * operator with list\n",
    "ID = [101, 23, 77, 45] * 2\n",
    "ID "
   ]
  },
  {
   "cell_type": "code",
   "execution_count": 91,
   "id": "be688a64",
   "metadata": {},
   "outputs": [
    {
     "data": {
      "text/plain": [
       "'ManuManuManuManuManu'"
      ]
     },
     "execution_count": 91,
     "metadata": {},
     "output_type": "execute_result"
    }
   ],
   "source": [
    "# * operator with string\n",
    "name = 'Manu' * 5\n",
    "name"
   ]
  },
  {
   "cell_type": "markdown",
   "id": "83f8926b",
   "metadata": {},
   "source": [
    "### The * operator does not actually multiply the values; it only repeats the values for the specified number of times."
   ]
  }
 ],
 "metadata": {
  "kernelspec": {
   "display_name": "Python 3",
   "language": "python",
   "name": "python3"
  },
  "language_info": {
   "codemirror_mode": {
    "name": "ipython",
    "version": 3
   },
   "file_extension": ".py",
   "mimetype": "text/x-python",
   "name": "python",
   "nbconvert_exporter": "python",
   "pygments_lexer": "ipython3",
   "version": "3.8.8"
  }
 },
 "nbformat": 4,
 "nbformat_minor": 5
}
