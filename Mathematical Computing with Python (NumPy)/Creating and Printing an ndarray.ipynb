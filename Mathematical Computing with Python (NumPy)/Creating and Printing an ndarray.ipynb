{
 "cells": [
  {
   "cell_type": "markdown",
   "id": "f614891d",
   "metadata": {},
   "source": [
    "# Classes and Attributes of ndarray: .ndim"
   ]
  },
  {
   "cell_type": "markdown",
   "id": "a75779b3",
   "metadata": {},
   "source": [
    "This refers to the number of axes (dimensions) of the array. It is also called the rank of the\n",
    "array."
   ]
  },
  {
   "cell_type": "code",
   "execution_count": 1,
   "id": "5c2105b5",
   "metadata": {},
   "outputs": [],
   "source": [
    "import numpy as np"
   ]
  },
  {
   "cell_type": "code",
   "execution_count": 2,
   "id": "c4bc29c2",
   "metadata": {},
   "outputs": [],
   "source": [
    "# The array np_city is one-dimensional, while the array np_city_with_state is two-dimensional.\n",
    "np_city = np.array(['NYC', 'LA', 'Miami', 'Houston'])"
   ]
  },
  {
   "cell_type": "code",
   "execution_count": 3,
   "id": "7e45ccb7",
   "metadata": {},
   "outputs": [
    {
     "data": {
      "text/plain": [
       "1"
      ]
     },
     "execution_count": 3,
     "metadata": {},
     "output_type": "execute_result"
    }
   ],
   "source": [
    "np_city.ndim"
   ]
  },
  {
   "cell_type": "code",
   "execution_count": 4,
   "id": "9c283bde",
   "metadata": {},
   "outputs": [
    {
     "data": {
      "text/plain": [
       "2"
      ]
     },
     "execution_count": 4,
     "metadata": {},
     "output_type": "execute_result"
    }
   ],
   "source": [
    "np_city_states = np.array([['NYC', 'LA', 'Miami', 'Houston'],['NY', 'CA', 'FL', 'TX']])\n",
    "np_city_states.ndim"
   ]
  },
  {
   "cell_type": "markdown",
   "id": "556bd3e1",
   "metadata": {},
   "source": [
    "# Classes and Attributes of ndarray: .shape"
   ]
  },
  {
   "cell_type": "markdown",
   "id": "b768959f",
   "metadata": {},
   "source": [
    "This consists of a tuple of integers showing the size of the array in each dimension. The\n",
    "length of the shape tuple is the rank or ndim."
   ]
  },
  {
   "cell_type": "code",
   "execution_count": 5,
   "id": "71236b07",
   "metadata": {},
   "outputs": [
    {
     "data": {
      "text/plain": [
       "(4,)"
      ]
     },
     "execution_count": 5,
     "metadata": {},
     "output_type": "execute_result"
    }
   ],
   "source": [
    "# The shape tuple of both the arrays indicate their size along each dimension.\n",
    "\n",
    "np_city.shape"
   ]
  },
  {
   "cell_type": "code",
   "execution_count": 6,
   "id": "a4fe85ca",
   "metadata": {},
   "outputs": [
    {
     "data": {
      "text/plain": [
       "(2, 4)"
      ]
     },
     "execution_count": 6,
     "metadata": {},
     "output_type": "execute_result"
    }
   ],
   "source": [
    "np_city_states.shape"
   ]
  },
  {
   "cell_type": "markdown",
   "id": "13fcb452",
   "metadata": {},
   "source": [
    "# Classes and Attributes of ndarray: .size"
   ]
  },
  {
   "cell_type": "markdown",
   "id": "d07a6a62",
   "metadata": {},
   "source": [
    "It gives the total number of elements in the array. It is equal to the product of the elements\n",
    "of the shape tuple."
   ]
  },
  {
   "cell_type": "code",
   "execution_count": 7,
   "id": "7f747bf9",
   "metadata": {},
   "outputs": [
    {
     "data": {
      "text/plain": [
       "4"
      ]
     },
     "execution_count": 7,
     "metadata": {},
     "output_type": "execute_result"
    }
   ],
   "source": [
    "# Look at the examples to see how the shape tuples of the arrays are used to calculate their size.\n",
    "\n",
    "np_city.size"
   ]
  },
  {
   "cell_type": "code",
   "execution_count": 8,
   "id": "4ec5caf5",
   "metadata": {},
   "outputs": [
    {
     "data": {
      "text/plain": [
       "8"
      ]
     },
     "execution_count": 8,
     "metadata": {},
     "output_type": "execute_result"
    }
   ],
   "source": [
    "np_city_states.size"
   ]
  },
  {
   "cell_type": "markdown",
   "id": "a2b5c535",
   "metadata": {},
   "source": [
    "# Classes and Attributes of ndarray: .dtype"
   ]
  },
  {
   "cell_type": "markdown",
   "id": "726448e7",
   "metadata": {},
   "source": [
    "It’s an object that describes the type of the elements in the array. It can be created or\n",
    "specified using Python."
   ]
  },
  {
   "cell_type": "code",
   "execution_count": 9,
   "id": "e623c6c2",
   "metadata": {},
   "outputs": [
    {
     "data": {
      "text/plain": [
       "array(['NYC', 'LA', 'Miami', 'Houston'], dtype='<U7')"
      ]
     },
     "execution_count": 9,
     "metadata": {},
     "output_type": "execute_result"
    }
   ],
   "source": [
    "# Both the arrays are of string data type (dtype) and the longest string is of length 7, which is Lapa.\n",
    "\n",
    "np_city"
   ]
  },
  {
   "cell_type": "code",
   "execution_count": 10,
   "id": "47676518",
   "metadata": {},
   "outputs": [
    {
     "data": {
      "text/plain": [
       "array([['NYC', 'LA', 'Miami', 'Houston'],\n",
       "       ['NY', 'CA', 'FL', 'TX']], dtype='<U7')"
      ]
     },
     "execution_count": 10,
     "metadata": {},
     "output_type": "execute_result"
    }
   ],
   "source": [
    "np_city_states"
   ]
  },
  {
   "cell_type": "code",
   "execution_count": 11,
   "id": "9cd7285a",
   "metadata": {},
   "outputs": [
    {
     "data": {
      "text/plain": [
       "dtype('<U7')"
      ]
     },
     "execution_count": 11,
     "metadata": {},
     "output_type": "execute_result"
    }
   ],
   "source": [
    "np_city.dtype"
   ]
  },
  {
   "cell_type": "code",
   "execution_count": 12,
   "id": "9eba341a",
   "metadata": {},
   "outputs": [
    {
     "data": {
      "text/plain": [
       "dtype('<U7')"
      ]
     },
     "execution_count": 12,
     "metadata": {},
     "output_type": "execute_result"
    }
   ],
   "source": [
    "np_city_states.dtype"
   ]
  }
 ],
 "metadata": {
  "kernelspec": {
   "display_name": "Python 3",
   "language": "python",
   "name": "python3"
  },
  "language_info": {
   "codemirror_mode": {
    "name": "ipython",
    "version": 3
   },
   "file_extension": ".py",
   "mimetype": "text/x-python",
   "name": "python",
   "nbconvert_exporter": "python",
   "pygments_lexer": "ipython3",
   "version": "3.8.8"
  }
 },
 "nbformat": 4,
 "nbformat_minor": 5
}
