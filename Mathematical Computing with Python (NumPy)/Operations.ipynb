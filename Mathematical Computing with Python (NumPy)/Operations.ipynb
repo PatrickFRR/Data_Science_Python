{
 "cells": [
  {
   "cell_type": "markdown",
   "id": "0ad039e3",
   "metadata": {},
   "source": [
    "# Basic Operations"
   ]
  },
  {
   "cell_type": "code",
   "execution_count": 1,
   "id": "001141ee",
   "metadata": {},
   "outputs": [],
   "source": [
    "import numpy as np"
   ]
  },
  {
   "cell_type": "code",
   "execution_count": 2,
   "id": "671e1064",
   "metadata": {},
   "outputs": [],
   "source": [
    "a_trial_cyclist = [10, 15, 17, 26]"
   ]
  },
  {
   "cell_type": "code",
   "execution_count": 3,
   "id": "974cfb59",
   "metadata": {},
   "outputs": [],
   "source": [
    "b_trial_cyclist = [12, 11, 21, 24]"
   ]
  },
  {
   "cell_type": "code",
   "execution_count": 4,
   "id": "9dd24e7d",
   "metadata": {},
   "outputs": [],
   "source": [
    "np_a_trial = np.array(a_trial_cyclist)"
   ]
  },
  {
   "cell_type": "code",
   "execution_count": 5,
   "id": "315b6d66",
   "metadata": {},
   "outputs": [],
   "source": [
    "np_b_trail = np.array(b_trial_cyclist)"
   ]
  },
  {
   "cell_type": "code",
   "execution_count": 6,
   "id": "b5395bb1",
   "metadata": {},
   "outputs": [
    {
     "data": {
      "text/plain": [
       "array([22, 26, 38, 50])"
      ]
     },
     "execution_count": 6,
     "metadata": {},
     "output_type": "execute_result"
    }
   ],
   "source": [
    "np_a_trial + np_b_trail # Total distance"
   ]
  },
  {
   "cell_type": "markdown",
   "id": "304bd5d7",
   "metadata": {},
   "source": [
    "# Accessing Array Elements: Indexing"
   ]
  },
  {
   "cell_type": "code",
   "execution_count": 7,
   "id": "38e38b28",
   "metadata": {},
   "outputs": [],
   "source": [
    "# You can access an entire row of an array by referencing its axis index.\n",
    "\n",
    "cyclist_trial = np.array([[10, 15, 17, 26],[12, 11, 21, 24]])"
   ]
  },
  {
   "cell_type": "code",
   "execution_count": 16,
   "id": "cf853176",
   "metadata": {},
   "outputs": [],
   "source": [
    "one_trial = cyclist_trial[0] # First trial data"
   ]
  },
  {
   "cell_type": "code",
   "execution_count": 9,
   "id": "41e230fd",
   "metadata": {},
   "outputs": [
    {
     "data": {
      "text/plain": [
       "array([10, 15, 17, 26])"
      ]
     },
     "execution_count": 9,
     "metadata": {},
     "output_type": "execute_result"
    }
   ],
   "source": [
    "one_trial"
   ]
  },
  {
   "cell_type": "code",
   "execution_count": 10,
   "id": "e1256132",
   "metadata": {},
   "outputs": [],
   "source": [
    "two_trial = cyclist_trial[1] #Second trial data"
   ]
  },
  {
   "cell_type": "code",
   "execution_count": 11,
   "id": "00dd2f2c",
   "metadata": {},
   "outputs": [
    {
     "data": {
      "text/plain": [
       "array([12, 11, 21, 24])"
      ]
     },
     "execution_count": 11,
     "metadata": {},
     "output_type": "execute_result"
    }
   ],
   "source": [
    "two_trial"
   ]
  },
  {
   "cell_type": "code",
   "execution_count": 12,
   "id": "64c40dc3",
   "metadata": {},
   "outputs": [],
   "source": [
    "# You can refer the indices of the elements in an array to access them. \n",
    "# You can also select a particular index of more than one axis at a time.\n",
    "\n",
    "one_cyclist_one_trial = cyclist_trial[0][0] #First cyclist: first trial data"
   ]
  },
  {
   "cell_type": "code",
   "execution_count": 13,
   "id": "11fafce4",
   "metadata": {},
   "outputs": [
    {
     "data": {
      "text/plain": [
       "10"
      ]
     },
     "execution_count": 13,
     "metadata": {},
     "output_type": "execute_result"
    }
   ],
   "source": [
    "one_cyclist_one_trial"
   ]
  },
  {
   "cell_type": "code",
   "execution_count": 14,
   "id": "997987db",
   "metadata": {},
   "outputs": [],
   "source": [
    "one_cyclist_all_trial = cyclist_trial[:,0] # First cyclist: all trial data"
   ]
  },
  {
   "cell_type": "code",
   "execution_count": 15,
   "id": "83fa5772",
   "metadata": {},
   "outputs": [
    {
     "data": {
      "text/plain": [
       "array([10, 12])"
      ]
     },
     "execution_count": 15,
     "metadata": {},
     "output_type": "execute_result"
    }
   ],
   "source": [
    "one_cyclist_all_trial"
   ]
  },
  {
   "cell_type": "markdown",
   "id": "4151c2dc",
   "metadata": {},
   "source": [
    "# Accessing Array Elements: Slicing"
   ]
  },
  {
   "cell_type": "code",
   "execution_count": 17,
   "id": "98e39049",
   "metadata": {},
   "outputs": [
    {
     "data": {
      "text/plain": [
       "(2, 4)"
      ]
     },
     "execution_count": 17,
     "metadata": {},
     "output_type": "execute_result"
    }
   ],
   "source": [
    "# Use the slicing method to access a range of values within an array.\n",
    "\n",
    "cyclist_trial.shape"
   ]
  },
  {
   "cell_type": "code",
   "execution_count": 18,
   "id": "793d0b25",
   "metadata": {},
   "outputs": [],
   "source": [
    "two_cyclist_trial_data = cyclist_trial[:, 1:3] #Slincing the array data, where 1 is inclusive but 3 is not"
   ]
  },
  {
   "cell_type": "code",
   "execution_count": 19,
   "id": "85d7d726",
   "metadata": {},
   "outputs": [
    {
     "data": {
      "text/plain": [
       "array([[15, 17],\n",
       "       [11, 21]])"
      ]
     },
     "execution_count": 19,
     "metadata": {},
     "output_type": "execute_result"
    }
   ],
   "source": [
    "two_cyclist_trial_data"
   ]
  },
  {
   "cell_type": "markdown",
   "id": "be171057",
   "metadata": {},
   "source": [
    "# Accessing Array Elements: Iteration"
   ]
  },
  {
   "cell_type": "code",
   "execution_count": 21,
   "id": "b1f9b63c",
   "metadata": {},
   "outputs": [
    {
     "name": "stdout",
     "output_type": "stream",
     "text": [
      "[10 15 17 26]\n",
      "[12 11 21 24]\n"
     ]
    }
   ],
   "source": [
    "# Use the iteration method to go through each data element present in the dataset.\n",
    "\n",
    "# Iterate with for loop through entire dataset\n",
    "for iterate_cyclist_trial_data in cyclist_trial:\n",
    "    print(iterate_cyclist_trial_data)"
   ]
  },
  {
   "cell_type": "code",
   "execution_count": 22,
   "id": "04d4f762",
   "metadata": {},
   "outputs": [
    {
     "name": "stdout",
     "output_type": "stream",
     "text": [
      "[15 17]\n",
      "[11 21]\n"
     ]
    }
   ],
   "source": [
    "# Iterate with for loop through the two cyclist datasets\n",
    "for iterate_two_cyclist_trial_data in two_cyclist_trial_data:\n",
    "    print(iterate_two_cyclist_trial_data)"
   ]
  },
  {
   "cell_type": "markdown",
   "id": "5a879f7f",
   "metadata": {},
   "source": [
    "# Indexing with Boolean Arrays"
   ]
  },
  {
   "cell_type": "code",
   "execution_count": 23,
   "id": "0e50d601",
   "metadata": {},
   "outputs": [],
   "source": [
    "# Here, the original dataset contains test scores of two students.\n",
    "# You can use a Boolean array to choose only the scores that are above a given value.\n",
    "\n",
    "\n",
    "test_scores = np.array([[83,71,57,63],[54,68,81,45]])"
   ]
  },
  {
   "cell_type": "code",
   "execution_count": 24,
   "id": "7ebf8c7b",
   "metadata": {},
   "outputs": [],
   "source": [
    "passing_score = test_scores > 60 "
   ]
  },
  {
   "cell_type": "code",
   "execution_count": 26,
   "id": "96a9fede",
   "metadata": {},
   "outputs": [
    {
     "data": {
      "text/plain": [
       "array([[ True,  True, False,  True],\n",
       "       [False,  True,  True, False]])"
      ]
     },
     "execution_count": 26,
     "metadata": {},
     "output_type": "execute_result"
    }
   ],
   "source": [
    "passing_score"
   ]
  },
  {
   "cell_type": "code",
   "execution_count": 28,
   "id": "4ca07bad",
   "metadata": {},
   "outputs": [
    {
     "data": {
      "text/plain": [
       "array([83, 71, 63, 68, 81])"
      ]
     },
     "execution_count": 28,
     "metadata": {},
     "output_type": "execute_result"
    }
   ],
   "source": [
    "test_scores[passing_score] # Send passing score as an argument to test scores object"
   ]
  },
  {
   "cell_type": "markdown",
   "id": "38f445fa",
   "metadata": {},
   "source": [
    "# Copy and Views"
   ]
  },
  {
   "cell_type": "markdown",
   "id": "725d5649",
   "metadata": {},
   "source": [
    "## Simple Assingnments"
   ]
  },
  {
   "cell_type": "code",
   "execution_count": 29,
   "id": "db23f510",
   "metadata": {},
   "outputs": [],
   "source": [
    "# In this method, a variable is directly assigned the value of another variable. No new copy is made.\n",
    "\n",
    "NYC_Borough = np.array(['Manhattan', 'Bronx', 'Brooklyn', 'Staten Island', 'Queens'])"
   ]
  },
  {
   "cell_type": "code",
   "execution_count": 30,
   "id": "62a288cd",
   "metadata": {},
   "outputs": [
    {
     "data": {
      "text/plain": [
       "array(['Manhattan', 'Bronx', 'Brooklyn', 'Staten Island', 'Queens'],\n",
       "      dtype='<U13')"
      ]
     },
     "execution_count": 30,
     "metadata": {},
     "output_type": "execute_result"
    }
   ],
   "source": [
    "NYC_Borough "
   ]
  },
  {
   "cell_type": "code",
   "execution_count": 31,
   "id": "ca74ced8",
   "metadata": {},
   "outputs": [],
   "source": [
    "Borough_in_NYC = NYC_Borough"
   ]
  },
  {
   "cell_type": "code",
   "execution_count": 32,
   "id": "e2f110dd",
   "metadata": {},
   "outputs": [
    {
     "data": {
      "text/plain": [
       "array(['Manhattan', 'Bronx', 'Brooklyn', 'Staten Island', 'Queens'],\n",
       "      dtype='<U13')"
      ]
     },
     "execution_count": 32,
     "metadata": {},
     "output_type": "execute_result"
    }
   ],
   "source": [
    "Borough_in_NYC"
   ]
  },
  {
   "cell_type": "code",
   "execution_count": 33,
   "id": "be1a768b",
   "metadata": {},
   "outputs": [
    {
     "data": {
      "text/plain": [
       "True"
      ]
     },
     "execution_count": 33,
     "metadata": {},
     "output_type": "execute_result"
    }
   ],
   "source": [
    "Borough_in_NYC is NYC_Borough "
   ]
  },
  {
   "cell_type": "markdown",
   "id": "e8cd3112",
   "metadata": {},
   "source": [
    "## View / Shallow Copy"
   ]
  },
  {
   "cell_type": "code",
   "execution_count": 34,
   "id": "dc68149e",
   "metadata": {},
   "outputs": [],
   "source": [
    "# A view, also referred to as a shallow copy, creates a new array object.\n",
    "\n",
    "View_of_Borough_in_NYC = Borough_in_NYC.view()"
   ]
  },
  {
   "cell_type": "code",
   "execution_count": 35,
   "id": "fc4985a2",
   "metadata": {},
   "outputs": [
    {
     "data": {
      "text/plain": [
       "5"
      ]
     },
     "execution_count": 35,
     "metadata": {},
     "output_type": "execute_result"
    }
   ],
   "source": [
    "len(View_of_Borough_in_NYC)"
   ]
  },
  {
   "cell_type": "code",
   "execution_count": 36,
   "id": "725c27f4",
   "metadata": {},
   "outputs": [],
   "source": [
    "View_of_Borough_in_NYC[4] = 'Central Park' # Change value in view object"
   ]
  },
  {
   "cell_type": "code",
   "execution_count": 37,
   "id": "94ddd628",
   "metadata": {},
   "outputs": [
    {
     "data": {
      "text/plain": [
       "array(['Manhattan', 'Bronx', 'Brooklyn', 'Staten Island', 'Central Park'],\n",
       "      dtype='<U13')"
      ]
     },
     "execution_count": 37,
     "metadata": {},
     "output_type": "execute_result"
    }
   ],
   "source": [
    "View_of_Borough_in_NYC"
   ]
  },
  {
   "cell_type": "code",
   "execution_count": 38,
   "id": "875a11d1",
   "metadata": {},
   "outputs": [
    {
     "data": {
      "text/plain": [
       "array(['Manhattan', 'Bronx', 'Brooklyn', 'Staten Island', 'Central Park'],\n",
       "      dtype='<U13')"
      ]
     },
     "execution_count": 38,
     "metadata": {},
     "output_type": "execute_result"
    }
   ],
   "source": [
    "Borough_in_NYC"
   ]
  },
  {
   "cell_type": "markdown",
   "id": "11fe8a2f",
   "metadata": {},
   "source": [
    "## Deep Copy"
   ]
  },
  {
   "cell_type": "code",
   "execution_count": 39,
   "id": "d19ecf61",
   "metadata": {},
   "outputs": [],
   "source": [
    "# Copy is also called deep copy because it entirely copies the original dataset. \n",
    "# Any change in the copy will not affect the original dataset.\n",
    "\n",
    "Copy_of_NYC_Borough = NYC_Borough.copy()"
   ]
  },
  {
   "cell_type": "code",
   "execution_count": 40,
   "id": "08e34158",
   "metadata": {},
   "outputs": [
    {
     "data": {
      "text/plain": [
       "False"
      ]
     },
     "execution_count": 40,
     "metadata": {},
     "output_type": "execute_result"
    }
   ],
   "source": [
    "Copy_of_NYC_Borough is NYC_Borough"
   ]
  },
  {
   "cell_type": "code",
   "execution_count": 41,
   "id": "2ed2f1e8",
   "metadata": {},
   "outputs": [
    {
     "data": {
      "text/plain": [
       "False"
      ]
     },
     "execution_count": 41,
     "metadata": {},
     "output_type": "execute_result"
    }
   ],
   "source": [
    "Copy_of_NYC_Borough.base is NYC_Borough"
   ]
  },
  {
   "cell_type": "code",
   "execution_count": 42,
   "id": "665d2665",
   "metadata": {},
   "outputs": [],
   "source": [
    "Copy_of_NYC_Borough[4] = 'Central Park' # Change value in copy"
   ]
  },
  {
   "cell_type": "code",
   "execution_count": 43,
   "id": "e714f893",
   "metadata": {},
   "outputs": [
    {
     "data": {
      "text/plain": [
       "array(['Manhattan', 'Bronx', 'Brooklyn', 'Staten Island', 'Central Park'],\n",
       "      dtype='<U13')"
      ]
     },
     "execution_count": 43,
     "metadata": {},
     "output_type": "execute_result"
    }
   ],
   "source": [
    "NYC_Borough"
   ]
  },
  {
   "cell_type": "code",
   "execution_count": 44,
   "id": "73f35c64",
   "metadata": {},
   "outputs": [
    {
     "data": {
      "text/plain": [
       "array(['Manhattan', 'Bronx', 'Brooklyn', 'Staten Island', 'Central Park'],\n",
       "      dtype='<U13')"
      ]
     },
     "execution_count": 44,
     "metadata": {},
     "output_type": "execute_result"
    }
   ],
   "source": [
    "Copy_of_NYC_Borough"
   ]
  },
  {
   "cell_type": "markdown",
   "id": "cae30ca6",
   "metadata": {},
   "source": [
    "# Universal Functions (ufunc)"
   ]
  },
  {
   "cell_type": "markdown",
   "id": "6d36914a",
   "metadata": {},
   "source": [
    " **sqrt** unction provides the square root of every element in the array."
   ]
  },
  {
   "cell_type": "code",
   "execution_count": 45,
   "id": "a3d9b46d",
   "metadata": {},
   "outputs": [],
   "source": [
    "np_sqrt = np.sqrt([2,4,9,16])"
   ]
  },
  {
   "cell_type": "code",
   "execution_count": 46,
   "id": "720605f6",
   "metadata": {},
   "outputs": [
    {
     "data": {
      "text/plain": [
       "array([1.41421356, 2.        , 3.        , 4.        ])"
      ]
     },
     "execution_count": 46,
     "metadata": {},
     "output_type": "execute_result"
    }
   ],
   "source": [
    "np_sqrt"
   ]
  },
  {
   "cell_type": "markdown",
   "id": "9f50db13",
   "metadata": {},
   "source": [
    "**floor** function returns the largest integer value of every element in the array."
   ]
  },
  {
   "cell_type": "code",
   "execution_count": 50,
   "id": "ce5be31f",
   "metadata": {},
   "outputs": [
    {
     "data": {
      "text/plain": [
       "array([ 1.,  1.,  2.,  3.,  1., -1., -2.])"
      ]
     },
     "execution_count": 50,
     "metadata": {},
     "output_type": "execute_result"
    }
   ],
   "source": [
    "np.floor([1.5,1.6,2.7,3.3,1.1,-0.3,-1.4])"
   ]
  },
  {
   "cell_type": "markdown",
   "id": "6e174b28",
   "metadata": {},
   "source": [
    "**cos** function gives cosine values for all elements in the array."
   ]
  },
  {
   "cell_type": "code",
   "execution_count": 47,
   "id": "35f7b6f5",
   "metadata": {},
   "outputs": [
    {
     "data": {
      "text/plain": [
       "1.0"
      ]
     },
     "execution_count": 47,
     "metadata": {},
     "output_type": "execute_result"
    }
   ],
   "source": [
    "from numpy import pi\n",
    "np.cos(0)"
   ]
  },
  {
   "cell_type": "code",
   "execution_count": 48,
   "id": "d8997390",
   "metadata": {},
   "outputs": [
    {
     "data": {
      "text/plain": [
       "1.0"
      ]
     },
     "execution_count": 48,
     "metadata": {},
     "output_type": "execute_result"
    }
   ],
   "source": [
    "np.sin(pi/2)"
   ]
  },
  {
   "cell_type": "code",
   "execution_count": 49,
   "id": "87a673c4",
   "metadata": {},
   "outputs": [
    {
     "data": {
      "text/plain": [
       "-1.0"
      ]
     },
     "execution_count": 49,
     "metadata": {},
     "output_type": "execute_result"
    }
   ],
   "source": [
    "np.cos(pi)"
   ]
  },
  {
   "cell_type": "markdown",
   "id": "0c91bc60",
   "metadata": {},
   "source": [
    "**exp** function performs exponentiation on each element."
   ]
  },
  {
   "cell_type": "code",
   "execution_count": 51,
   "id": "6294b18b",
   "metadata": {},
   "outputs": [
    {
     "data": {
      "text/plain": [
       "array([  1.        ,   2.71828183, 148.4131591 ])"
      ]
     },
     "execution_count": 51,
     "metadata": {},
     "output_type": "execute_result"
    }
   ],
   "source": [
    "np.exp([0,1,5])"
   ]
  },
  {
   "cell_type": "markdown",
   "id": "253d9973",
   "metadata": {},
   "source": [
    "# Shape Manipulation"
   ]
  },
  {
   "cell_type": "code",
   "execution_count": 53,
   "id": "701b09ed",
   "metadata": {},
   "outputs": [],
   "source": [
    "# The shape of an array can be changed according to the requirement using the NumPy library functions.\n",
    "cy_trial = np.array([[10, 15, 17, 26,13,19],[12, 11, 21, 24,14,23]])"
   ]
  },
  {
   "cell_type": "code",
   "execution_count": 54,
   "id": "dd6ca030",
   "metadata": {},
   "outputs": [
    {
     "data": {
      "text/plain": [
       "array([10, 15, 17, 26, 13, 19, 12, 11, 21, 24, 14, 23])"
      ]
     },
     "execution_count": 54,
     "metadata": {},
     "output_type": "execute_result"
    }
   ],
   "source": [
    "cy_trial.ravel() # Flattens the dataset"
   ]
  },
  {
   "cell_type": "code",
   "execution_count": 55,
   "id": "aeb8e01f",
   "metadata": {},
   "outputs": [
    {
     "data": {
      "text/plain": [
       "array([[10, 15, 17, 26],\n",
       "       [13, 19, 12, 11],\n",
       "       [21, 24, 14, 23]])"
      ]
     },
     "execution_count": 55,
     "metadata": {},
     "output_type": "execute_result"
    }
   ],
   "source": [
    "cy_trial.reshape(3,4) # Changes or reshapes the dataset to 3 rows and 4 columns"
   ]
  },
  {
   "cell_type": "code",
   "execution_count": 56,
   "id": "a2364fe6",
   "metadata": {},
   "outputs": [],
   "source": [
    "cy_trial.resize(2,6) # Resizes again to 2 rows and 6 columns"
   ]
  },
  {
   "cell_type": "code",
   "execution_count": 57,
   "id": "2b4e07fb",
   "metadata": {},
   "outputs": [
    {
     "data": {
      "text/plain": [
       "array([[10, 15, 17, 26, 13, 19],\n",
       "       [12, 11, 21, 24, 14, 23]])"
      ]
     },
     "execution_count": 57,
     "metadata": {},
     "output_type": "execute_result"
    }
   ],
   "source": [
    "cy_trial"
   ]
  },
  {
   "cell_type": "code",
   "execution_count": 58,
   "id": "4cc9dbcf",
   "metadata": {},
   "outputs": [
    {
     "data": {
      "text/plain": [
       "[array([[10, 15, 17],\n",
       "        [12, 11, 21]]),\n",
       " array([[26, 13, 19],\n",
       "        [24, 14, 23]])]"
      ]
     },
     "execution_count": 58,
     "metadata": {},
     "output_type": "execute_result"
    }
   ],
   "source": [
    "np.hsplit(cy_trial,2) #Splits the array into two"
   ]
  },
  {
   "cell_type": "code",
   "execution_count": 60,
   "id": "012eceee",
   "metadata": {},
   "outputs": [],
   "source": [
    "cy_trial_1 = np.array([10, 15, 17, 26,13,19])"
   ]
  },
  {
   "cell_type": "code",
   "execution_count": 61,
   "id": "37ed9376",
   "metadata": {},
   "outputs": [],
   "source": [
    "cy_trial_2 = np.array([12, 11, 21, 24,14,23])"
   ]
  },
  {
   "cell_type": "code",
   "execution_count": 62,
   "id": "d357f9ad",
   "metadata": {},
   "outputs": [
    {
     "data": {
      "text/plain": [
       "array([10, 15, 17, 26, 13, 19, 12, 11, 21, 24, 14, 23])"
      ]
     },
     "execution_count": 62,
     "metadata": {},
     "output_type": "execute_result"
    }
   ],
   "source": [
    "np.hstack((cy_trial_1,cy_trial_2)) # Stacks the arrays together"
   ]
  },
  {
   "cell_type": "markdown",
   "id": "912cac68",
   "metadata": {},
   "source": [
    "# Broadcasting"
   ]
  },
  {
   "cell_type": "code",
   "execution_count": 63,
   "id": "1e9d58aa",
   "metadata": {},
   "outputs": [],
   "source": [
    "# NumPy uses broadcasting to carry out arithmetic operations between arrays of different shapes. \n",
    "# In this method, NumPy automatically broadcasts the smaller array over the larger array.\n",
    "\n",
    "import numpy as np"
   ]
  },
  {
   "cell_type": "code",
   "execution_count": 64,
   "id": "90849a33",
   "metadata": {},
   "outputs": [],
   "source": [
    "# Create two arrays of the same shape\n",
    "array_a = np.array([2,3,5,8])\n",
    "array_b = np.array([.3,.3,.3,.3])"
   ]
  },
  {
   "cell_type": "code",
   "execution_count": 65,
   "id": "82d283ce",
   "metadata": {},
   "outputs": [
    {
     "data": {
      "text/plain": [
       "array([0.6, 0.9, 1.5, 2.4])"
      ]
     },
     "execution_count": 65,
     "metadata": {},
     "output_type": "execute_result"
    }
   ],
   "source": [
    "#Multiply arrays\n",
    "array_a * array_b"
   ]
  },
  {
   "cell_type": "code",
   "execution_count": 66,
   "id": "898e32c7",
   "metadata": {},
   "outputs": [],
   "source": [
    "# Create a variable with a scalar value\n",
    "scalar_c = .3"
   ]
  },
  {
   "cell_type": "code",
   "execution_count": 67,
   "id": "c28bb9e2",
   "metadata": {},
   "outputs": [
    {
     "data": {
      "text/plain": [
       "array([0.6, 0.9, 1.5, 2.4])"
      ]
     },
     "execution_count": 67,
     "metadata": {},
     "output_type": "execute_result"
    }
   ],
   "source": [
    "# Multiple 1D array with a scalar value\n",
    "array_a * scalar_c"
   ]
  },
  {
   "cell_type": "markdown",
   "id": "cd1eb33d",
   "metadata": {},
   "source": [
    "# Linear Algebra: Transpose"
   ]
  },
  {
   "cell_type": "code",
   "execution_count": 68,
   "id": "7ec70d9b",
   "metadata": {},
   "outputs": [],
   "source": [
    "# NumPy can carry out linear algebraic functions as well. \n",
    "# The transpose() function can help you interchange rows as columns, and vice-versa.\n",
    "\n",
    "test_scores = np.array([[83,71,57,63],[54,68,81,45]])"
   ]
  },
  {
   "cell_type": "code",
   "execution_count": 69,
   "id": "29b0ac4b",
   "metadata": {},
   "outputs": [
    {
     "data": {
      "text/plain": [
       "array([[83, 54],\n",
       "       [71, 68],\n",
       "       [57, 81],\n",
       "       [63, 45]])"
      ]
     },
     "execution_count": 69,
     "metadata": {},
     "output_type": "execute_result"
    }
   ],
   "source": [
    "test_scores.transpose()"
   ]
  },
  {
   "cell_type": "markdown",
   "id": "1a2333b8",
   "metadata": {},
   "source": [
    "# Linear Algebra: Inverse and Trace Functions"
   ]
  },
  {
   "cell_type": "code",
   "execution_count": 70,
   "id": "b25cdc0c",
   "metadata": {},
   "outputs": [],
   "source": [
    "# Using NumPy, you can also find the inverse of an array and add its diagonal data elements.\n",
    "\n",
    "inverse_array = np.array([[10,20],[15,25]])"
   ]
  },
  {
   "cell_type": "code",
   "execution_count": 71,
   "id": "c226f385",
   "metadata": {},
   "outputs": [
    {
     "data": {
      "text/plain": [
       "array([[-0.5,  0.4],\n",
       "       [ 0.3, -0.2]])"
      ]
     },
     "execution_count": 71,
     "metadata": {},
     "output_type": "execute_result"
    }
   ],
   "source": [
    "# np.linalg.inv() - Inverse of the given array\n",
    "np.linalg.inv(inverse_array)"
   ]
  },
  {
   "cell_type": "code",
   "execution_count": 72,
   "id": "3021d30f",
   "metadata": {},
   "outputs": [],
   "source": [
    "# np.trace() - Sum of diagonal elements 10 and 31\n",
    "trace_array = np.array([[10,20],[22,31]])"
   ]
  },
  {
   "cell_type": "code",
   "execution_count": 73,
   "id": "b96aaa1e",
   "metadata": {},
   "outputs": [
    {
     "data": {
      "text/plain": [
       "41"
      ]
     },
     "execution_count": 73,
     "metadata": {},
     "output_type": "execute_result"
    }
   ],
   "source": [
    "np.trace(trace_array)"
   ]
  }
 ],
 "metadata": {
  "kernelspec": {
   "display_name": "Python 3",
   "language": "python",
   "name": "python3"
  },
  "language_info": {
   "codemirror_mode": {
    "name": "ipython",
    "version": 3
   },
   "file_extension": ".py",
   "mimetype": "text/x-python",
   "name": "python",
   "nbconvert_exporter": "python",
   "pygments_lexer": "ipython3",
   "version": "3.8.8"
  }
 },
 "nbformat": 4,
 "nbformat_minor": 5
}
