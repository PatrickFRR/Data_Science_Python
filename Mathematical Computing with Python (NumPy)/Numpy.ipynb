{
 "cells": [
  {
   "cell_type": "markdown",
   "id": "04a3dbce",
   "metadata": {},
   "source": [
    "# Quick Recap: Lists"
   ]
  },
  {
   "cell_type": "code",
   "execution_count": 3,
   "id": "379af1ef",
   "metadata": {},
   "outputs": [
    {
     "name": "stdout",
     "output_type": "stream",
     "text": [
      "[10, 15, 17, 26]\n",
      "[0.3, 0.47, 0.55, 1.2]\n"
     ]
    }
   ],
   "source": [
    "# Below are some of the properties of lists:\n",
    "\n",
    "distance = [10, 15, 17, 26] # Colletion of values\n",
    "time = [.30, .47, .55, 1.20] # Multiple types (Heterogeneous)\n",
    "print(distance)\n",
    "print(time) "
   ]
  },
  {
   "cell_type": "markdown",
   "id": "4d90aad9",
   "metadata": {},
   "source": [
    "# Limitations of Lists"
   ]
  },
  {
   "cell_type": "code",
   "execution_count": null,
   "id": "9766f21d",
   "metadata": {},
   "outputs": [],
   "source": [
    "# You can change individual values in a list, but you cannot apply a mathematical operation over the entire list.\n",
    "\n",
    "speed = distance / time # Mathematical operation over the entire “distance” and “time” lists\n",
    "\n",
    "# Error: unsuppoerted operation types"
   ]
  },
  {
   "cell_type": "markdown",
   "id": "dbde2829",
   "metadata": {},
   "source": [
    "# Why NumPy"
   ]
  },
  {
   "cell_type": "code",
   "execution_count": 5,
   "id": "3736311e",
   "metadata": {},
   "outputs": [],
   "source": [
    "# Numerical Python (NumPy) supports multidimensional arrays\n",
    "# over which you can easily apply mathematical operations.\n",
    "\n",
    "\n",
    "distance = [10, 15, 17, 26] # Colletion of values\n",
    "time = [.30, .47, .55, 1.20] # Multiple types (Heterogeneous)"
   ]
  },
  {
   "cell_type": "code",
   "execution_count": 7,
   "id": "95a9b840",
   "metadata": {},
   "outputs": [],
   "source": [
    "import numpy as np"
   ]
  },
  {
   "cell_type": "code",
   "execution_count": 8,
   "id": "f0c689c4",
   "metadata": {},
   "outputs": [],
   "source": [
    "np_distance = np.array(distance) #Create 'distance' and 'time' NumPy arrays\n",
    "np_time = np.array(time) \n",
    "\n",
    "speed = np_distance / np_time # Mathematical function applied over the entire 'distance' and 'time' arrays"
   ]
  },
  {
   "cell_type": "code",
   "execution_count": 9,
   "id": "d0750842",
   "metadata": {},
   "outputs": [
    {
     "data": {
      "text/plain": [
       "array([33.33333333, 31.91489362, 30.90909091, 21.66666667])"
      ]
     },
     "execution_count": 9,
     "metadata": {},
     "output_type": "execute_result"
    }
   ],
   "source": [
    "speed"
   ]
  },
  {
   "cell_type": "markdown",
   "id": "6f1803ca",
   "metadata": {},
   "source": [
    "# Types of Arrays"
   ]
  },
  {
   "cell_type": "code",
   "execution_count": 11,
   "id": "3be2448c",
   "metadata": {},
   "outputs": [],
   "source": [
    "# Arrays can be one-dimensional, two-dimensional, three-dimensional, or multi-dimensional."
   ]
  },
  {
   "cell_type": "code",
   "execution_count": 13,
   "id": "9d66e948",
   "metadata": {},
   "outputs": [
    {
     "data": {
      "text/plain": [
       "array([5, 7, 9])"
      ]
     },
     "execution_count": 13,
     "metadata": {},
     "output_type": "execute_result"
    }
   ],
   "source": [
    "# One-dimensional array\n",
    "\n",
    "array = [5, 7, 9]\n",
    "one = np.array(array)\n",
    "one # Printed as rows"
   ]
  },
  {
   "cell_type": "code",
   "execution_count": 15,
   "id": "46410651",
   "metadata": {},
   "outputs": [
    {
     "data": {
      "text/plain": [
       "array([[0, 1, 2],\n",
       "       [5, 6, 7]])"
      ]
     },
     "execution_count": 15,
     "metadata": {},
     "output_type": "execute_result"
    }
   ],
   "source": [
    "# Two-dimensional array\n",
    "\n",
    "array = [[0, 1, 2],[5, 6, 7]]\n",
    "two = np.array(array)\n",
    "two # Printed as matrices (2x3)"
   ]
  },
  {
   "cell_type": "code",
   "execution_count": 16,
   "id": "bba5d53b",
   "metadata": {},
   "outputs": [
    {
     "data": {
      "text/plain": [
       "array([[[ 0,  1,  2],\n",
       "        [ 3,  4,  5],\n",
       "        [ 6,  7,  8]],\n",
       "\n",
       "       [[ 9, 10, 11],\n",
       "        [12, 13, 14],\n",
       "        [15, 16, 17]],\n",
       "\n",
       "       [[18, 19, 20],\n",
       "        [21, 22, 23],\n",
       "        [24, 25, 26]]])"
      ]
     },
     "execution_count": 16,
     "metadata": {},
     "output_type": "execute_result"
    }
   ],
   "source": [
    "# Three-dimensional array\n",
    "\n",
    "array = [[[0,1,2],[3,4,5],[6,7,8]], [[9,10,11],[12,13,14],[15,16,17]],[[18,19,20],[21,22,23],[24,25,26]]]\n",
    "\n",
    "three = np.array(array)\n",
    "three #Printed as list od matrices (3x3x3)"
   ]
  }
 ],
 "metadata": {
  "kernelspec": {
   "display_name": "Python 3",
   "language": "python",
   "name": "python3"
  },
  "language_info": {
   "codemirror_mode": {
    "name": "ipython",
    "version": 3
   },
   "file_extension": ".py",
   "mimetype": "text/x-python",
   "name": "python",
   "nbconvert_exporter": "python",
   "pygments_lexer": "ipython3",
   "version": "3.8.8"
  }
 },
 "nbformat": 4,
 "nbformat_minor": 5
}
